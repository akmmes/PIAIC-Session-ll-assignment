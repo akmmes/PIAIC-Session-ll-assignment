{
  "nbformat": 4,
  "nbformat_minor": 0,
  "metadata": {
    "kernelspec": {
      "display_name": "Python 3",
      "language": "python",
      "name": "python3"
    },
    "language_info": {
      "codemirror_mode": {
        "name": "ipython",
        "version": 3
      },
      "file_extension": ".py",
      "mimetype": "text/x-python",
      "name": "python",
      "nbconvert_exporter": "python",
      "pygments_lexer": "ipython3",
      "version": "3.8.5"
    },
    "colab": {
      "name": "Pandas Assignment 2 .ipynb",
      "provenance": [],
      "collapsed_sections": [
        "CYy9g3fjv3Ql"
      ]
    }
  },
  "cells": [
    {
      "cell_type": "markdown",
      "metadata": {
        "id": "dC2XJjDKxAx9"
      },
      "source": [
        "# **PIAIC Pandas Assignment 2**\r\n",
        "Hafiz Muhammad Sarmad Khan\r\n",
        "PIAIC_AI_101225"
      ]
    },
    {
      "cell_type": "markdown",
      "metadata": {
        "id": "3ihMkt4Dv3L1"
      },
      "source": [
        "# PART 1: \n",
        "\n",
        "**HOW TO CLEAN DATA WITH PYTHON**\n",
        "\n",
        "\n",
        "Cleaning US Census Data\n",
        "You just got hired as a Data Analyst at the Census Bureau, which collects census data and creates interesting visualizations and insights from it.\n",
        "\n",
        "The person who had your job before you left you all the data they had for the most recent census. It is in multiple csv files. They didn’t use pandas, they would just look through these csv files manually whenever they wanted to find something. Sometimes they would copy and paste certain numbers into Excel to make charts.\n",
        "\n",
        "The thought of it makes you shiver. This is not scalable or repeatable.\n",
        "\n",
        "Your boss wants you to make some scatterplots and histograms by the end of the day. Can you get this data into pandas and into reasonable shape so that you can make these histograms?"
      ]
    },
    {
      "cell_type": "markdown",
      "metadata": {
        "id": "XltFWqfGv3Nq"
      },
      "source": [
        "### Inspect the Data!\n",
        "1.\n",
        "The first visualization your boss wants you to make is a scatterplot that shows average income in a state vs proportion of women in that state."
      ]
    },
    {
      "cell_type": "markdown",
      "metadata": {
        "id": "ZdK-iNI8v3Nv"
      },
      "source": [
        "Open some of the census csv files in the navigator. How are they named? What kind of information do they hold? Will they help us make this graph?"
      ]
    },
    {
      "cell_type": "code",
      "metadata": {
        "id": "QIHAkEqnv3Nz"
      },
      "source": [
        "# importing the libraries\n",
        "import numpy as np\n",
        "import pandas as pd\n",
        "import matplotlib.pyplot as plt\n",
        "import glob"
      ],
      "execution_count": null,
      "outputs": []
    },
    {
      "cell_type": "code",
      "metadata": {
        "scrolled": true,
        "id": "8VgD4uAnv3N3",
        "outputId": "69c3a76c-75dc-499c-ac8a-0187bdbbe1c3"
      },
      "source": [
        "# checking one of the csv file\n",
        "pd.read_csv('states0.csv')"
      ],
      "execution_count": null,
      "outputs": [
        {
          "output_type": "execute_result",
          "data": {
            "text/html": [
              "<div>\n",
              "<style scoped>\n",
              "    .dataframe tbody tr th:only-of-type {\n",
              "        vertical-align: middle;\n",
              "    }\n",
              "\n",
              "    .dataframe tbody tr th {\n",
              "        vertical-align: top;\n",
              "    }\n",
              "\n",
              "    .dataframe thead th {\n",
              "        text-align: right;\n",
              "    }\n",
              "</style>\n",
              "<table border=\"1\" class=\"dataframe\">\n",
              "  <thead>\n",
              "    <tr style=\"text-align: right;\">\n",
              "      <th></th>\n",
              "      <th>Unnamed: 0</th>\n",
              "      <th>State</th>\n",
              "      <th>TotalPop</th>\n",
              "      <th>Hispanic</th>\n",
              "      <th>White</th>\n",
              "      <th>Black</th>\n",
              "      <th>Native</th>\n",
              "      <th>Asian</th>\n",
              "      <th>Pacific</th>\n",
              "      <th>Income</th>\n",
              "      <th>GenderPop</th>\n",
              "    </tr>\n",
              "  </thead>\n",
              "  <tbody>\n",
              "    <tr>\n",
              "      <th>0</th>\n",
              "      <td>0</td>\n",
              "      <td>Alabama</td>\n",
              "      <td>4830620</td>\n",
              "      <td>3.7516156462584975%</td>\n",
              "      <td>61.878656462585%</td>\n",
              "      <td>31.25297619047618%</td>\n",
              "      <td>0.4532312925170065%</td>\n",
              "      <td>1.0502551020408146%</td>\n",
              "      <td>0.03435374149659865%</td>\n",
              "      <td>$43296.35860306644</td>\n",
              "      <td>2341093M_2489527F</td>\n",
              "    </tr>\n",
              "    <tr>\n",
              "      <th>1</th>\n",
              "      <td>1</td>\n",
              "      <td>Alaska</td>\n",
              "      <td>733375</td>\n",
              "      <td>5.909580838323351%</td>\n",
              "      <td>60.910179640718574%</td>\n",
              "      <td>2.8485029940119775%</td>\n",
              "      <td>16.39101796407186%</td>\n",
              "      <td>5.450299401197604%</td>\n",
              "      <td>1.0586826347305378%</td>\n",
              "      <td>$70354.74390243902</td>\n",
              "      <td>384160M_349215F</td>\n",
              "    </tr>\n",
              "    <tr>\n",
              "      <th>2</th>\n",
              "      <td>2</td>\n",
              "      <td>Arizona</td>\n",
              "      <td>6641928</td>\n",
              "      <td>29.565921052631502%</td>\n",
              "      <td>57.120000000000026%</td>\n",
              "      <td>3.8509868421052658%</td>\n",
              "      <td>4.35506578947368%</td>\n",
              "      <td>2.876578947368419%</td>\n",
              "      <td>0.16763157894736833%</td>\n",
              "      <td>$54207.82095490716</td>\n",
              "      <td>3299088M_3342840F</td>\n",
              "    </tr>\n",
              "    <tr>\n",
              "      <th>3</th>\n",
              "      <td>3</td>\n",
              "      <td>Arkansas</td>\n",
              "      <td>2958208</td>\n",
              "      <td>6.215474452554738%</td>\n",
              "      <td>71.13781021897813%</td>\n",
              "      <td>18.968759124087573%</td>\n",
              "      <td>0.5229197080291965%</td>\n",
              "      <td>1.1423357664233578%</td>\n",
              "      <td>0.14686131386861315%</td>\n",
              "      <td>$41935.63396778917</td>\n",
              "      <td>1451913M_1506295F</td>\n",
              "    </tr>\n",
              "    <tr>\n",
              "      <th>4</th>\n",
              "      <td>4</td>\n",
              "      <td>California</td>\n",
              "      <td>38421464</td>\n",
              "      <td>37.291874687968054%</td>\n",
              "      <td>40.21578881677474%</td>\n",
              "      <td>5.677396405391911%</td>\n",
              "      <td>0.40529206190713685%</td>\n",
              "      <td>13.052234148776776%</td>\n",
              "      <td>0.35141038442336353%</td>\n",
              "      <td>$67264.78230266465</td>\n",
              "      <td>19087135M_19334329F</td>\n",
              "    </tr>\n",
              "    <tr>\n",
              "      <th>5</th>\n",
              "      <td>5</td>\n",
              "      <td>Colorado</td>\n",
              "      <td>5278906</td>\n",
              "      <td>20.78438003220608%</td>\n",
              "      <td>69.89557165861504%</td>\n",
              "      <td>3.546376811594201%</td>\n",
              "      <td>0.5738325281803548%</td>\n",
              "      <td>2.661996779388082%</td>\n",
              "      <td>NaN</td>\n",
              "      <td>$64657.801787164906</td>\n",
              "      <td>2648667M_2630239F</td>\n",
              "    </tr>\n",
              "  </tbody>\n",
              "</table>\n",
              "</div>"
            ],
            "text/plain": [
              "   Unnamed: 0       State  TotalPop             Hispanic                White  \\\n",
              "0           0     Alabama   4830620  3.7516156462584975%     61.878656462585%   \n",
              "1           1      Alaska    733375   5.909580838323351%  60.910179640718574%   \n",
              "2           2     Arizona   6641928  29.565921052631502%  57.120000000000026%   \n",
              "3           3    Arkansas   2958208   6.215474452554738%   71.13781021897813%   \n",
              "4           4  California  38421464  37.291874687968054%   40.21578881677474%   \n",
              "5           5    Colorado   5278906   20.78438003220608%   69.89557165861504%   \n",
              "\n",
              "                 Black                Native                Asian  \\\n",
              "0   31.25297619047618%   0.4532312925170065%  1.0502551020408146%   \n",
              "1  2.8485029940119775%    16.39101796407186%   5.450299401197604%   \n",
              "2  3.8509868421052658%     4.35506578947368%   2.876578947368419%   \n",
              "3  18.968759124087573%   0.5229197080291965%  1.1423357664233578%   \n",
              "4   5.677396405391911%  0.40529206190713685%  13.052234148776776%   \n",
              "5   3.546376811594201%   0.5738325281803548%   2.661996779388082%   \n",
              "\n",
              "                Pacific               Income            GenderPop  \n",
              "0  0.03435374149659865%   $43296.35860306644    2341093M_2489527F  \n",
              "1   1.0586826347305378%   $70354.74390243902      384160M_349215F  \n",
              "2  0.16763157894736833%   $54207.82095490716    3299088M_3342840F  \n",
              "3  0.14686131386861315%   $41935.63396778917    1451913M_1506295F  \n",
              "4  0.35141038442336353%   $67264.78230266465  19087135M_19334329F  \n",
              "5                   NaN  $64657.801787164906    2648667M_2630239F  "
            ]
          },
          "metadata": {
            "tags": []
          },
          "execution_count": 2
        }
      ]
    },
    {
      "cell_type": "code",
      "metadata": {
        "id": "5gv_DRO6v3N8",
        "outputId": "77c3abb1-2f94-4d73-91d3-7831eb0621a1"
      },
      "source": [
        "# Checking some of the attributes of the csv file (i-e column headings, shape and size of DataFrame, and any Null values)\n",
        "\n",
        "print(pd.read_csv('states0.csv').columns)\n",
        "print('-------------------------------------')\n",
        "print(pd.read_csv('states0.csv').shape)\n",
        "print('-------------------------------------')\n",
        "print(pd.read_csv('states0.csv').size)\n",
        "print('-------------------------------------')\n",
        "print(pd.read_csv('states0.csv').isnull().any())"
      ],
      "execution_count": null,
      "outputs": [
        {
          "output_type": "stream",
          "text": [
            "Index(['Unnamed: 0', 'State', 'TotalPop', 'Hispanic', 'White', 'Black',\n",
            "       'Native', 'Asian', 'Pacific', 'Income', 'GenderPop'],\n",
            "      dtype='object')\n",
            "-------------------------------------\n",
            "(6, 11)\n",
            "-------------------------------------\n",
            "66\n",
            "-------------------------------------\n",
            "Unnamed: 0    False\n",
            "State         False\n",
            "TotalPop      False\n",
            "Hispanic      False\n",
            "White         False\n",
            "Black         False\n",
            "Native        False\n",
            "Asian         False\n",
            "Pacific        True\n",
            "Income        False\n",
            "GenderPop     False\n",
            "dtype: bool\n"
          ],
          "name": "stdout"
        }
      ]
    },
    {
      "cell_type": "markdown",
      "metadata": {
        "id": "QUpO9Wgbv3OB"
      },
      "source": [
        "2.\n",
        "It will be easier to inspect this data once we have it in a DataFrame. You can’t even call .head() on these csvs! How are you supposed to read them?\n",
        "\n",
        "Using glob, loop through the census files available and load them into DataFrames. Then, concatenate all of those DataFrames together into one DataFrame, called something like us_census."
      ]
    },
    {
      "cell_type": "code",
      "metadata": {
        "id": "0dY5z4oev3OE",
        "outputId": "6146fc89-1785-4ab0-bae6-0dff0415ed68"
      },
      "source": [
        "# read all csv files\n",
        "census_files = glob.glob('states*.csv')\n",
        "\n",
        "df_list = []\n",
        "for _file in census_files:\n",
        "    data = pd.read_csv(_file)\n",
        "    df_list.append(data)\n",
        "\n",
        "census_files"
      ],
      "execution_count": null,
      "outputs": [
        {
          "output_type": "execute_result",
          "data": {
            "text/plain": [
              "['states0.csv',\n",
              " 'states1.csv',\n",
              " 'states2.csv',\n",
              " 'states3.csv',\n",
              " 'states4.csv',\n",
              " 'states5.csv',\n",
              " 'states6.csv',\n",
              " 'states7.csv',\n",
              " 'states8.csv',\n",
              " 'states9.csv']"
            ]
          },
          "metadata": {
            "tags": []
          },
          "execution_count": 4
        }
      ]
    },
    {
      "cell_type": "code",
      "metadata": {
        "id": "q8k4wvqmv3OI"
      },
      "source": [
        "# DataFrame Concatenation\n",
        "\n",
        "us_census = pd.concat(df_list, ignore_index=True)"
      ],
      "execution_count": null,
      "outputs": []
    },
    {
      "cell_type": "code",
      "metadata": {
        "id": "Qn8QO8xCv3OL",
        "outputId": "0b8c7a4a-ca72-42f8-9b30-2f1635029872"
      },
      "source": [
        "us_census.head()"
      ],
      "execution_count": null,
      "outputs": [
        {
          "output_type": "execute_result",
          "data": {
            "text/html": [
              "<div>\n",
              "<style scoped>\n",
              "    .dataframe tbody tr th:only-of-type {\n",
              "        vertical-align: middle;\n",
              "    }\n",
              "\n",
              "    .dataframe tbody tr th {\n",
              "        vertical-align: top;\n",
              "    }\n",
              "\n",
              "    .dataframe thead th {\n",
              "        text-align: right;\n",
              "    }\n",
              "</style>\n",
              "<table border=\"1\" class=\"dataframe\">\n",
              "  <thead>\n",
              "    <tr style=\"text-align: right;\">\n",
              "      <th></th>\n",
              "      <th>Unnamed: 0</th>\n",
              "      <th>State</th>\n",
              "      <th>TotalPop</th>\n",
              "      <th>Hispanic</th>\n",
              "      <th>White</th>\n",
              "      <th>Black</th>\n",
              "      <th>Native</th>\n",
              "      <th>Asian</th>\n",
              "      <th>Pacific</th>\n",
              "      <th>Income</th>\n",
              "      <th>GenderPop</th>\n",
              "    </tr>\n",
              "  </thead>\n",
              "  <tbody>\n",
              "    <tr>\n",
              "      <th>0</th>\n",
              "      <td>0</td>\n",
              "      <td>Alabama</td>\n",
              "      <td>4830620</td>\n",
              "      <td>3.7516156462584975%</td>\n",
              "      <td>61.878656462585%</td>\n",
              "      <td>31.25297619047618%</td>\n",
              "      <td>0.4532312925170065%</td>\n",
              "      <td>1.0502551020408146%</td>\n",
              "      <td>0.03435374149659865%</td>\n",
              "      <td>$43296.35860306644</td>\n",
              "      <td>2341093M_2489527F</td>\n",
              "    </tr>\n",
              "    <tr>\n",
              "      <th>1</th>\n",
              "      <td>1</td>\n",
              "      <td>Alaska</td>\n",
              "      <td>733375</td>\n",
              "      <td>5.909580838323351%</td>\n",
              "      <td>60.910179640718574%</td>\n",
              "      <td>2.8485029940119775%</td>\n",
              "      <td>16.39101796407186%</td>\n",
              "      <td>5.450299401197604%</td>\n",
              "      <td>1.0586826347305378%</td>\n",
              "      <td>$70354.74390243902</td>\n",
              "      <td>384160M_349215F</td>\n",
              "    </tr>\n",
              "    <tr>\n",
              "      <th>2</th>\n",
              "      <td>2</td>\n",
              "      <td>Arizona</td>\n",
              "      <td>6641928</td>\n",
              "      <td>29.565921052631502%</td>\n",
              "      <td>57.120000000000026%</td>\n",
              "      <td>3.8509868421052658%</td>\n",
              "      <td>4.35506578947368%</td>\n",
              "      <td>2.876578947368419%</td>\n",
              "      <td>0.16763157894736833%</td>\n",
              "      <td>$54207.82095490716</td>\n",
              "      <td>3299088M_3342840F</td>\n",
              "    </tr>\n",
              "    <tr>\n",
              "      <th>3</th>\n",
              "      <td>3</td>\n",
              "      <td>Arkansas</td>\n",
              "      <td>2958208</td>\n",
              "      <td>6.215474452554738%</td>\n",
              "      <td>71.13781021897813%</td>\n",
              "      <td>18.968759124087573%</td>\n",
              "      <td>0.5229197080291965%</td>\n",
              "      <td>1.1423357664233578%</td>\n",
              "      <td>0.14686131386861315%</td>\n",
              "      <td>$41935.63396778917</td>\n",
              "      <td>1451913M_1506295F</td>\n",
              "    </tr>\n",
              "    <tr>\n",
              "      <th>4</th>\n",
              "      <td>4</td>\n",
              "      <td>California</td>\n",
              "      <td>38421464</td>\n",
              "      <td>37.291874687968054%</td>\n",
              "      <td>40.21578881677474%</td>\n",
              "      <td>5.677396405391911%</td>\n",
              "      <td>0.40529206190713685%</td>\n",
              "      <td>13.052234148776776%</td>\n",
              "      <td>0.35141038442336353%</td>\n",
              "      <td>$67264.78230266465</td>\n",
              "      <td>19087135M_19334329F</td>\n",
              "    </tr>\n",
              "  </tbody>\n",
              "</table>\n",
              "</div>"
            ],
            "text/plain": [
              "   Unnamed: 0       State  TotalPop             Hispanic                White  \\\n",
              "0           0     Alabama   4830620  3.7516156462584975%     61.878656462585%   \n",
              "1           1      Alaska    733375   5.909580838323351%  60.910179640718574%   \n",
              "2           2     Arizona   6641928  29.565921052631502%  57.120000000000026%   \n",
              "3           3    Arkansas   2958208   6.215474452554738%   71.13781021897813%   \n",
              "4           4  California  38421464  37.291874687968054%   40.21578881677474%   \n",
              "\n",
              "                 Black                Native                Asian  \\\n",
              "0   31.25297619047618%   0.4532312925170065%  1.0502551020408146%   \n",
              "1  2.8485029940119775%    16.39101796407186%   5.450299401197604%   \n",
              "2  3.8509868421052658%     4.35506578947368%   2.876578947368419%   \n",
              "3  18.968759124087573%   0.5229197080291965%  1.1423357664233578%   \n",
              "4   5.677396405391911%  0.40529206190713685%  13.052234148776776%   \n",
              "\n",
              "                Pacific              Income            GenderPop  \n",
              "0  0.03435374149659865%  $43296.35860306644    2341093M_2489527F  \n",
              "1   1.0586826347305378%  $70354.74390243902      384160M_349215F  \n",
              "2  0.16763157894736833%  $54207.82095490716    3299088M_3342840F  \n",
              "3  0.14686131386861315%  $41935.63396778917    1451913M_1506295F  \n",
              "4  0.35141038442336353%  $67264.78230266465  19087135M_19334329F  "
            ]
          },
          "metadata": {
            "tags": []
          },
          "execution_count": 6
        }
      ]
    },
    {
      "cell_type": "markdown",
      "metadata": {
        "id": "xGepU_L1v3OP"
      },
      "source": [
        "3.\n",
        "Look at the columns and the dtypes of the us_census DataFrame. Are those datatypes going to hinder you as you try to make histograms?"
      ]
    },
    {
      "cell_type": "code",
      "metadata": {
        "id": "AEX2-QA-v3OS",
        "outputId": "e4c06792-21bb-4e2c-976f-94a7b09e97b0"
      },
      "source": [
        "us_census.columns"
      ],
      "execution_count": null,
      "outputs": [
        {
          "output_type": "execute_result",
          "data": {
            "text/plain": [
              "Index(['Unnamed: 0', 'State', 'TotalPop', 'Hispanic', 'White', 'Black',\n",
              "       'Native', 'Asian', 'Pacific', 'Income', 'GenderPop'],\n",
              "      dtype='object')"
            ]
          },
          "metadata": {
            "tags": []
          },
          "execution_count": 7
        }
      ]
    },
    {
      "cell_type": "code",
      "metadata": {
        "scrolled": false,
        "id": "r_WSHuBZv3OV",
        "outputId": "8372b222-9104-4d5c-f4e2-fc18a438bf9f"
      },
      "source": [
        "us_census.dtypes"
      ],
      "execution_count": null,
      "outputs": [
        {
          "output_type": "execute_result",
          "data": {
            "text/plain": [
              "Unnamed: 0     int64\n",
              "State         object\n",
              "TotalPop       int64\n",
              "Hispanic      object\n",
              "White         object\n",
              "Black         object\n",
              "Native        object\n",
              "Asian         object\n",
              "Pacific       object\n",
              "Income        object\n",
              "GenderPop     object\n",
              "dtype: object"
            ]
          },
          "metadata": {
            "tags": []
          },
          "execution_count": 8
        }
      ]
    },
    {
      "cell_type": "code",
      "metadata": {
        "id": "lI1jhJuhv3OY",
        "outputId": "4a51d27d-192c-4f88-80d7-77393b81a941"
      },
      "source": [
        "us_census.head()"
      ],
      "execution_count": null,
      "outputs": [
        {
          "output_type": "execute_result",
          "data": {
            "text/html": [
              "<div>\n",
              "<style scoped>\n",
              "    .dataframe tbody tr th:only-of-type {\n",
              "        vertical-align: middle;\n",
              "    }\n",
              "\n",
              "    .dataframe tbody tr th {\n",
              "        vertical-align: top;\n",
              "    }\n",
              "\n",
              "    .dataframe thead th {\n",
              "        text-align: right;\n",
              "    }\n",
              "</style>\n",
              "<table border=\"1\" class=\"dataframe\">\n",
              "  <thead>\n",
              "    <tr style=\"text-align: right;\">\n",
              "      <th></th>\n",
              "      <th>Unnamed: 0</th>\n",
              "      <th>State</th>\n",
              "      <th>TotalPop</th>\n",
              "      <th>Hispanic</th>\n",
              "      <th>White</th>\n",
              "      <th>Black</th>\n",
              "      <th>Native</th>\n",
              "      <th>Asian</th>\n",
              "      <th>Pacific</th>\n",
              "      <th>Income</th>\n",
              "      <th>GenderPop</th>\n",
              "    </tr>\n",
              "  </thead>\n",
              "  <tbody>\n",
              "    <tr>\n",
              "      <th>0</th>\n",
              "      <td>0</td>\n",
              "      <td>Alabama</td>\n",
              "      <td>4830620</td>\n",
              "      <td>3.7516156462584975%</td>\n",
              "      <td>61.878656462585%</td>\n",
              "      <td>31.25297619047618%</td>\n",
              "      <td>0.4532312925170065%</td>\n",
              "      <td>1.0502551020408146%</td>\n",
              "      <td>0.03435374149659865%</td>\n",
              "      <td>$43296.35860306644</td>\n",
              "      <td>2341093M_2489527F</td>\n",
              "    </tr>\n",
              "    <tr>\n",
              "      <th>1</th>\n",
              "      <td>1</td>\n",
              "      <td>Alaska</td>\n",
              "      <td>733375</td>\n",
              "      <td>5.909580838323351%</td>\n",
              "      <td>60.910179640718574%</td>\n",
              "      <td>2.8485029940119775%</td>\n",
              "      <td>16.39101796407186%</td>\n",
              "      <td>5.450299401197604%</td>\n",
              "      <td>1.0586826347305378%</td>\n",
              "      <td>$70354.74390243902</td>\n",
              "      <td>384160M_349215F</td>\n",
              "    </tr>\n",
              "    <tr>\n",
              "      <th>2</th>\n",
              "      <td>2</td>\n",
              "      <td>Arizona</td>\n",
              "      <td>6641928</td>\n",
              "      <td>29.565921052631502%</td>\n",
              "      <td>57.120000000000026%</td>\n",
              "      <td>3.8509868421052658%</td>\n",
              "      <td>4.35506578947368%</td>\n",
              "      <td>2.876578947368419%</td>\n",
              "      <td>0.16763157894736833%</td>\n",
              "      <td>$54207.82095490716</td>\n",
              "      <td>3299088M_3342840F</td>\n",
              "    </tr>\n",
              "    <tr>\n",
              "      <th>3</th>\n",
              "      <td>3</td>\n",
              "      <td>Arkansas</td>\n",
              "      <td>2958208</td>\n",
              "      <td>6.215474452554738%</td>\n",
              "      <td>71.13781021897813%</td>\n",
              "      <td>18.968759124087573%</td>\n",
              "      <td>0.5229197080291965%</td>\n",
              "      <td>1.1423357664233578%</td>\n",
              "      <td>0.14686131386861315%</td>\n",
              "      <td>$41935.63396778917</td>\n",
              "      <td>1451913M_1506295F</td>\n",
              "    </tr>\n",
              "    <tr>\n",
              "      <th>4</th>\n",
              "      <td>4</td>\n",
              "      <td>California</td>\n",
              "      <td>38421464</td>\n",
              "      <td>37.291874687968054%</td>\n",
              "      <td>40.21578881677474%</td>\n",
              "      <td>5.677396405391911%</td>\n",
              "      <td>0.40529206190713685%</td>\n",
              "      <td>13.052234148776776%</td>\n",
              "      <td>0.35141038442336353%</td>\n",
              "      <td>$67264.78230266465</td>\n",
              "      <td>19087135M_19334329F</td>\n",
              "    </tr>\n",
              "  </tbody>\n",
              "</table>\n",
              "</div>"
            ],
            "text/plain": [
              "   Unnamed: 0       State  TotalPop             Hispanic                White  \\\n",
              "0           0     Alabama   4830620  3.7516156462584975%     61.878656462585%   \n",
              "1           1      Alaska    733375   5.909580838323351%  60.910179640718574%   \n",
              "2           2     Arizona   6641928  29.565921052631502%  57.120000000000026%   \n",
              "3           3    Arkansas   2958208   6.215474452554738%   71.13781021897813%   \n",
              "4           4  California  38421464  37.291874687968054%   40.21578881677474%   \n",
              "\n",
              "                 Black                Native                Asian  \\\n",
              "0   31.25297619047618%   0.4532312925170065%  1.0502551020408146%   \n",
              "1  2.8485029940119775%    16.39101796407186%   5.450299401197604%   \n",
              "2  3.8509868421052658%     4.35506578947368%   2.876578947368419%   \n",
              "3  18.968759124087573%   0.5229197080291965%  1.1423357664233578%   \n",
              "4   5.677396405391911%  0.40529206190713685%  13.052234148776776%   \n",
              "\n",
              "                Pacific              Income            GenderPop  \n",
              "0  0.03435374149659865%  $43296.35860306644    2341093M_2489527F  \n",
              "1   1.0586826347305378%  $70354.74390243902      384160M_349215F  \n",
              "2  0.16763157894736833%  $54207.82095490716    3299088M_3342840F  \n",
              "3  0.14686131386861315%  $41935.63396778917    1451913M_1506295F  \n",
              "4  0.35141038442336353%  $67264.78230266465  19087135M_19334329F  "
            ]
          },
          "metadata": {
            "tags": []
          },
          "execution_count": 9
        }
      ]
    },
    {
      "cell_type": "code",
      "metadata": {
        "id": "Q7je1m_6v3Oc",
        "outputId": "d48a579b-2a2f-452b-b145-a103681ca2a6"
      },
      "source": [
        "# Dropping the column named \"Unnamed\" which is not required in data analysis\n",
        "us_census.drop('Unnamed: 0', inplace=True, axis=1)\n",
        "us_census.head()"
      ],
      "execution_count": null,
      "outputs": [
        {
          "output_type": "execute_result",
          "data": {
            "text/html": [
              "<div>\n",
              "<style scoped>\n",
              "    .dataframe tbody tr th:only-of-type {\n",
              "        vertical-align: middle;\n",
              "    }\n",
              "\n",
              "    .dataframe tbody tr th {\n",
              "        vertical-align: top;\n",
              "    }\n",
              "\n",
              "    .dataframe thead th {\n",
              "        text-align: right;\n",
              "    }\n",
              "</style>\n",
              "<table border=\"1\" class=\"dataframe\">\n",
              "  <thead>\n",
              "    <tr style=\"text-align: right;\">\n",
              "      <th></th>\n",
              "      <th>State</th>\n",
              "      <th>TotalPop</th>\n",
              "      <th>Hispanic</th>\n",
              "      <th>White</th>\n",
              "      <th>Black</th>\n",
              "      <th>Native</th>\n",
              "      <th>Asian</th>\n",
              "      <th>Pacific</th>\n",
              "      <th>Income</th>\n",
              "      <th>GenderPop</th>\n",
              "    </tr>\n",
              "  </thead>\n",
              "  <tbody>\n",
              "    <tr>\n",
              "      <th>0</th>\n",
              "      <td>Alabama</td>\n",
              "      <td>4830620</td>\n",
              "      <td>3.7516156462584975%</td>\n",
              "      <td>61.878656462585%</td>\n",
              "      <td>31.25297619047618%</td>\n",
              "      <td>0.4532312925170065%</td>\n",
              "      <td>1.0502551020408146%</td>\n",
              "      <td>0.03435374149659865%</td>\n",
              "      <td>$43296.35860306644</td>\n",
              "      <td>2341093M_2489527F</td>\n",
              "    </tr>\n",
              "    <tr>\n",
              "      <th>1</th>\n",
              "      <td>Alaska</td>\n",
              "      <td>733375</td>\n",
              "      <td>5.909580838323351%</td>\n",
              "      <td>60.910179640718574%</td>\n",
              "      <td>2.8485029940119775%</td>\n",
              "      <td>16.39101796407186%</td>\n",
              "      <td>5.450299401197604%</td>\n",
              "      <td>1.0586826347305378%</td>\n",
              "      <td>$70354.74390243902</td>\n",
              "      <td>384160M_349215F</td>\n",
              "    </tr>\n",
              "    <tr>\n",
              "      <th>2</th>\n",
              "      <td>Arizona</td>\n",
              "      <td>6641928</td>\n",
              "      <td>29.565921052631502%</td>\n",
              "      <td>57.120000000000026%</td>\n",
              "      <td>3.8509868421052658%</td>\n",
              "      <td>4.35506578947368%</td>\n",
              "      <td>2.876578947368419%</td>\n",
              "      <td>0.16763157894736833%</td>\n",
              "      <td>$54207.82095490716</td>\n",
              "      <td>3299088M_3342840F</td>\n",
              "    </tr>\n",
              "    <tr>\n",
              "      <th>3</th>\n",
              "      <td>Arkansas</td>\n",
              "      <td>2958208</td>\n",
              "      <td>6.215474452554738%</td>\n",
              "      <td>71.13781021897813%</td>\n",
              "      <td>18.968759124087573%</td>\n",
              "      <td>0.5229197080291965%</td>\n",
              "      <td>1.1423357664233578%</td>\n",
              "      <td>0.14686131386861315%</td>\n",
              "      <td>$41935.63396778917</td>\n",
              "      <td>1451913M_1506295F</td>\n",
              "    </tr>\n",
              "    <tr>\n",
              "      <th>4</th>\n",
              "      <td>California</td>\n",
              "      <td>38421464</td>\n",
              "      <td>37.291874687968054%</td>\n",
              "      <td>40.21578881677474%</td>\n",
              "      <td>5.677396405391911%</td>\n",
              "      <td>0.40529206190713685%</td>\n",
              "      <td>13.052234148776776%</td>\n",
              "      <td>0.35141038442336353%</td>\n",
              "      <td>$67264.78230266465</td>\n",
              "      <td>19087135M_19334329F</td>\n",
              "    </tr>\n",
              "  </tbody>\n",
              "</table>\n",
              "</div>"
            ],
            "text/plain": [
              "        State  TotalPop             Hispanic                White  \\\n",
              "0     Alabama   4830620  3.7516156462584975%     61.878656462585%   \n",
              "1      Alaska    733375   5.909580838323351%  60.910179640718574%   \n",
              "2     Arizona   6641928  29.565921052631502%  57.120000000000026%   \n",
              "3    Arkansas   2958208   6.215474452554738%   71.13781021897813%   \n",
              "4  California  38421464  37.291874687968054%   40.21578881677474%   \n",
              "\n",
              "                 Black                Native                Asian  \\\n",
              "0   31.25297619047618%   0.4532312925170065%  1.0502551020408146%   \n",
              "1  2.8485029940119775%    16.39101796407186%   5.450299401197604%   \n",
              "2  3.8509868421052658%     4.35506578947368%   2.876578947368419%   \n",
              "3  18.968759124087573%   0.5229197080291965%  1.1423357664233578%   \n",
              "4   5.677396405391911%  0.40529206190713685%  13.052234148776776%   \n",
              "\n",
              "                Pacific              Income            GenderPop  \n",
              "0  0.03435374149659865%  $43296.35860306644    2341093M_2489527F  \n",
              "1   1.0586826347305378%  $70354.74390243902      384160M_349215F  \n",
              "2  0.16763157894736833%  $54207.82095490716    3299088M_3342840F  \n",
              "3  0.14686131386861315%  $41935.63396778917    1451913M_1506295F  \n",
              "4  0.35141038442336353%  $67264.78230266465  19087135M_19334329F  "
            ]
          },
          "metadata": {
            "tags": []
          },
          "execution_count": 10
        }
      ]
    },
    {
      "cell_type": "markdown",
      "metadata": {
        "id": "CZcQW9Icv3Of"
      },
      "source": [
        "4.\n",
        "Look at the .head() of the DataFrame so that you can understand why some of these dtypes are objects instead of integers or floats.\n",
        "\n",
        "Start to make a plan for how to convert these columns into the right types for manipulation.\n",
        "\n",
        "Regex to the Rescue"
      ]
    },
    {
      "cell_type": "markdown",
      "metadata": {
        "id": "sc5HUJj7v3Oi"
      },
      "source": [
        "5.\n",
        "Use regex to turn the Income column into a format that is ready for conversion into a numerical type."
      ]
    },
    {
      "cell_type": "code",
      "metadata": {
        "id": "k2QsZkk4v3Ok",
        "outputId": "e0afe2ec-4398-4730-864f-07f2e645c228"
      },
      "source": [
        "# get the info [head()] about the \"Income\" column\n",
        "us_census['Income'].head()"
      ],
      "execution_count": null,
      "outputs": [
        {
          "output_type": "execute_result",
          "data": {
            "text/plain": [
              "0    $43296.35860306644\n",
              "1    $70354.74390243902\n",
              "2    $54207.82095490716\n",
              "3    $41935.63396778917\n",
              "4    $67264.78230266465\n",
              "Name: Income, dtype: object"
            ]
          },
          "metadata": {
            "tags": []
          },
          "execution_count": 11
        }
      ]
    },
    {
      "cell_type": "code",
      "metadata": {
        "id": "6Z5mQD9rv3On"
      },
      "source": [
        "# Remove the \"$\" symbol from the data in 'Income' column\n",
        "# and convert it into numeric value\n",
        "\n",
        "us_census['Income'] = us_census['Income'].replace('[\\$,]','',regex=True)\n",
        "us_census['Income'] = pd.to_numeric(us_census.Income)"
      ],
      "execution_count": null,
      "outputs": []
    },
    {
      "cell_type": "code",
      "metadata": {
        "id": "6VxrDvn4v3Op",
        "outputId": "4a9c57c5-37f6-499d-8e29-00af2d9d75bd"
      },
      "source": [
        "us_census.Income.head()"
      ],
      "execution_count": null,
      "outputs": [
        {
          "output_type": "execute_result",
          "data": {
            "text/plain": [
              "0    43296.358603\n",
              "1    70354.743902\n",
              "2    54207.820955\n",
              "3    41935.633968\n",
              "4    67264.782303\n",
              "Name: Income, dtype: float64"
            ]
          },
          "metadata": {
            "tags": []
          },
          "execution_count": 13
        }
      ]
    },
    {
      "cell_type": "markdown",
      "metadata": {
        "id": "SryIAf-Qv3Os"
      },
      "source": [
        "6.\n",
        "Look at the GenderPop column. We are going to want to separate this into two columns, the Men column, and the Women column.\n",
        "\n",
        "Split the column into those two new columns using str.split and separating out those results."
      ]
    },
    {
      "cell_type": "code",
      "metadata": {
        "id": "VOxjdUbYv3Ou",
        "outputId": "03ca40a7-fd26-4e05-943a-be60b3f294b7"
      },
      "source": [
        "# Check the head() of the \"GenderPop\" Column\n",
        "us_census.GenderPop.head()"
      ],
      "execution_count": null,
      "outputs": [
        {
          "output_type": "execute_result",
          "data": {
            "text/plain": [
              "0      2341093M_2489527F\n",
              "1        384160M_349215F\n",
              "2      3299088M_3342840F\n",
              "3      1451913M_1506295F\n",
              "4    19087135M_19334329F\n",
              "Name: GenderPop, dtype: object"
            ]
          },
          "metadata": {
            "tags": []
          },
          "execution_count": 14
        }
      ]
    },
    {
      "cell_type": "code",
      "metadata": {
        "id": "WIb6cax9v3Ow",
        "outputId": "dde2ad3b-901d-455c-b6f2-1d16dbc65257"
      },
      "source": [
        "# Splitting this column into separate \"Men\" and \"Women\" columns\n",
        "\n",
        "us_census['Men'] = us_census['GenderPop'].str.split('(_)', expand=True)[0]\n",
        "us_census['Women'] = us_census['GenderPop'].str.split('(_)', expand=True)[2]\n",
        "us_census.head()"
      ],
      "execution_count": null,
      "outputs": [
        {
          "output_type": "execute_result",
          "data": {
            "text/html": [
              "<div>\n",
              "<style scoped>\n",
              "    .dataframe tbody tr th:only-of-type {\n",
              "        vertical-align: middle;\n",
              "    }\n",
              "\n",
              "    .dataframe tbody tr th {\n",
              "        vertical-align: top;\n",
              "    }\n",
              "\n",
              "    .dataframe thead th {\n",
              "        text-align: right;\n",
              "    }\n",
              "</style>\n",
              "<table border=\"1\" class=\"dataframe\">\n",
              "  <thead>\n",
              "    <tr style=\"text-align: right;\">\n",
              "      <th></th>\n",
              "      <th>State</th>\n",
              "      <th>TotalPop</th>\n",
              "      <th>Hispanic</th>\n",
              "      <th>White</th>\n",
              "      <th>Black</th>\n",
              "      <th>Native</th>\n",
              "      <th>Asian</th>\n",
              "      <th>Pacific</th>\n",
              "      <th>Income</th>\n",
              "      <th>GenderPop</th>\n",
              "      <th>Men</th>\n",
              "      <th>Women</th>\n",
              "    </tr>\n",
              "  </thead>\n",
              "  <tbody>\n",
              "    <tr>\n",
              "      <th>0</th>\n",
              "      <td>Alabama</td>\n",
              "      <td>4830620</td>\n",
              "      <td>3.7516156462584975%</td>\n",
              "      <td>61.878656462585%</td>\n",
              "      <td>31.25297619047618%</td>\n",
              "      <td>0.4532312925170065%</td>\n",
              "      <td>1.0502551020408146%</td>\n",
              "      <td>0.03435374149659865%</td>\n",
              "      <td>43296.358603</td>\n",
              "      <td>2341093M_2489527F</td>\n",
              "      <td>2341093M</td>\n",
              "      <td>2489527F</td>\n",
              "    </tr>\n",
              "    <tr>\n",
              "      <th>1</th>\n",
              "      <td>Alaska</td>\n",
              "      <td>733375</td>\n",
              "      <td>5.909580838323351%</td>\n",
              "      <td>60.910179640718574%</td>\n",
              "      <td>2.8485029940119775%</td>\n",
              "      <td>16.39101796407186%</td>\n",
              "      <td>5.450299401197604%</td>\n",
              "      <td>1.0586826347305378%</td>\n",
              "      <td>70354.743902</td>\n",
              "      <td>384160M_349215F</td>\n",
              "      <td>384160M</td>\n",
              "      <td>349215F</td>\n",
              "    </tr>\n",
              "    <tr>\n",
              "      <th>2</th>\n",
              "      <td>Arizona</td>\n",
              "      <td>6641928</td>\n",
              "      <td>29.565921052631502%</td>\n",
              "      <td>57.120000000000026%</td>\n",
              "      <td>3.8509868421052658%</td>\n",
              "      <td>4.35506578947368%</td>\n",
              "      <td>2.876578947368419%</td>\n",
              "      <td>0.16763157894736833%</td>\n",
              "      <td>54207.820955</td>\n",
              "      <td>3299088M_3342840F</td>\n",
              "      <td>3299088M</td>\n",
              "      <td>3342840F</td>\n",
              "    </tr>\n",
              "    <tr>\n",
              "      <th>3</th>\n",
              "      <td>Arkansas</td>\n",
              "      <td>2958208</td>\n",
              "      <td>6.215474452554738%</td>\n",
              "      <td>71.13781021897813%</td>\n",
              "      <td>18.968759124087573%</td>\n",
              "      <td>0.5229197080291965%</td>\n",
              "      <td>1.1423357664233578%</td>\n",
              "      <td>0.14686131386861315%</td>\n",
              "      <td>41935.633968</td>\n",
              "      <td>1451913M_1506295F</td>\n",
              "      <td>1451913M</td>\n",
              "      <td>1506295F</td>\n",
              "    </tr>\n",
              "    <tr>\n",
              "      <th>4</th>\n",
              "      <td>California</td>\n",
              "      <td>38421464</td>\n",
              "      <td>37.291874687968054%</td>\n",
              "      <td>40.21578881677474%</td>\n",
              "      <td>5.677396405391911%</td>\n",
              "      <td>0.40529206190713685%</td>\n",
              "      <td>13.052234148776776%</td>\n",
              "      <td>0.35141038442336353%</td>\n",
              "      <td>67264.782303</td>\n",
              "      <td>19087135M_19334329F</td>\n",
              "      <td>19087135M</td>\n",
              "      <td>19334329F</td>\n",
              "    </tr>\n",
              "  </tbody>\n",
              "</table>\n",
              "</div>"
            ],
            "text/plain": [
              "        State  TotalPop             Hispanic                White  \\\n",
              "0     Alabama   4830620  3.7516156462584975%     61.878656462585%   \n",
              "1      Alaska    733375   5.909580838323351%  60.910179640718574%   \n",
              "2     Arizona   6641928  29.565921052631502%  57.120000000000026%   \n",
              "3    Arkansas   2958208   6.215474452554738%   71.13781021897813%   \n",
              "4  California  38421464  37.291874687968054%   40.21578881677474%   \n",
              "\n",
              "                 Black                Native                Asian  \\\n",
              "0   31.25297619047618%   0.4532312925170065%  1.0502551020408146%   \n",
              "1  2.8485029940119775%    16.39101796407186%   5.450299401197604%   \n",
              "2  3.8509868421052658%     4.35506578947368%   2.876578947368419%   \n",
              "3  18.968759124087573%   0.5229197080291965%  1.1423357664233578%   \n",
              "4   5.677396405391911%  0.40529206190713685%  13.052234148776776%   \n",
              "\n",
              "                Pacific        Income            GenderPop        Men  \\\n",
              "0  0.03435374149659865%  43296.358603    2341093M_2489527F   2341093M   \n",
              "1   1.0586826347305378%  70354.743902      384160M_349215F    384160M   \n",
              "2  0.16763157894736833%  54207.820955    3299088M_3342840F   3299088M   \n",
              "3  0.14686131386861315%  41935.633968    1451913M_1506295F   1451913M   \n",
              "4  0.35141038442336353%  67264.782303  19087135M_19334329F  19087135M   \n",
              "\n",
              "       Women  \n",
              "0   2489527F  \n",
              "1    349215F  \n",
              "2   3342840F  \n",
              "3   1506295F  \n",
              "4  19334329F  "
            ]
          },
          "metadata": {
            "tags": []
          },
          "execution_count": 15
        }
      ]
    },
    {
      "cell_type": "markdown",
      "metadata": {
        "id": "pxgf7Y0lv3O0"
      },
      "source": [
        "7.\n",
        "Convert both of the columns into numerical datatypes.\n",
        "\n",
        "There is still an M or an F character in each entry! We should remove those before we convert."
      ]
    },
    {
      "cell_type": "code",
      "metadata": {
        "scrolled": true,
        "id": "5M9e88n5v3O2",
        "outputId": "c83717e8-2308-4c5d-f4b5-4fe0d55f7a77"
      },
      "source": [
        "# Remove the M from the \"Men\" Column\n",
        "us_census['Men'] = us_census['Men'].replace('M','',regex=True)\n",
        "us_census.Men.head()"
      ],
      "execution_count": null,
      "outputs": [
        {
          "output_type": "execute_result",
          "data": {
            "text/plain": [
              "0     2341093\n",
              "1      384160\n",
              "2     3299088\n",
              "3     1451913\n",
              "4    19087135\n",
              "Name: Men, dtype: object"
            ]
          },
          "metadata": {
            "tags": []
          },
          "execution_count": 16
        }
      ]
    },
    {
      "cell_type": "code",
      "metadata": {
        "id": "csaikfA2v3O5",
        "outputId": "2fc7d1ea-0463-48cc-d17e-1d7124314c9a"
      },
      "source": [
        "# Remove the F from the \"Women\" Column\n",
        "us_census['Women'] = us_census['Women'].replace('F','',regex=True)\n",
        "us_census.Men.head()"
      ],
      "execution_count": null,
      "outputs": [
        {
          "output_type": "execute_result",
          "data": {
            "text/plain": [
              "0     2341093\n",
              "1      384160\n",
              "2     3299088\n",
              "3     1451913\n",
              "4    19087135\n",
              "Name: Men, dtype: object"
            ]
          },
          "metadata": {
            "tags": []
          },
          "execution_count": 17
        }
      ]
    },
    {
      "cell_type": "code",
      "metadata": {
        "id": "M-LWaLDSv3O7",
        "outputId": "23fc1516-487f-4598-801d-018220506657"
      },
      "source": [
        "# Convert both Men and Women column to numeric value\n",
        "us_census['Men'] = pd.to_numeric(us_census.Men)\n",
        "us_census['Women'] = pd.to_numeric(us_census.Women)\n",
        "us_census.head()"
      ],
      "execution_count": null,
      "outputs": [
        {
          "output_type": "execute_result",
          "data": {
            "text/html": [
              "<div>\n",
              "<style scoped>\n",
              "    .dataframe tbody tr th:only-of-type {\n",
              "        vertical-align: middle;\n",
              "    }\n",
              "\n",
              "    .dataframe tbody tr th {\n",
              "        vertical-align: top;\n",
              "    }\n",
              "\n",
              "    .dataframe thead th {\n",
              "        text-align: right;\n",
              "    }\n",
              "</style>\n",
              "<table border=\"1\" class=\"dataframe\">\n",
              "  <thead>\n",
              "    <tr style=\"text-align: right;\">\n",
              "      <th></th>\n",
              "      <th>State</th>\n",
              "      <th>TotalPop</th>\n",
              "      <th>Hispanic</th>\n",
              "      <th>White</th>\n",
              "      <th>Black</th>\n",
              "      <th>Native</th>\n",
              "      <th>Asian</th>\n",
              "      <th>Pacific</th>\n",
              "      <th>Income</th>\n",
              "      <th>GenderPop</th>\n",
              "      <th>Men</th>\n",
              "      <th>Women</th>\n",
              "    </tr>\n",
              "  </thead>\n",
              "  <tbody>\n",
              "    <tr>\n",
              "      <th>0</th>\n",
              "      <td>Alabama</td>\n",
              "      <td>4830620</td>\n",
              "      <td>3.7516156462584975%</td>\n",
              "      <td>61.878656462585%</td>\n",
              "      <td>31.25297619047618%</td>\n",
              "      <td>0.4532312925170065%</td>\n",
              "      <td>1.0502551020408146%</td>\n",
              "      <td>0.03435374149659865%</td>\n",
              "      <td>43296.358603</td>\n",
              "      <td>2341093M_2489527F</td>\n",
              "      <td>2341093</td>\n",
              "      <td>2489527.0</td>\n",
              "    </tr>\n",
              "    <tr>\n",
              "      <th>1</th>\n",
              "      <td>Alaska</td>\n",
              "      <td>733375</td>\n",
              "      <td>5.909580838323351%</td>\n",
              "      <td>60.910179640718574%</td>\n",
              "      <td>2.8485029940119775%</td>\n",
              "      <td>16.39101796407186%</td>\n",
              "      <td>5.450299401197604%</td>\n",
              "      <td>1.0586826347305378%</td>\n",
              "      <td>70354.743902</td>\n",
              "      <td>384160M_349215F</td>\n",
              "      <td>384160</td>\n",
              "      <td>349215.0</td>\n",
              "    </tr>\n",
              "    <tr>\n",
              "      <th>2</th>\n",
              "      <td>Arizona</td>\n",
              "      <td>6641928</td>\n",
              "      <td>29.565921052631502%</td>\n",
              "      <td>57.120000000000026%</td>\n",
              "      <td>3.8509868421052658%</td>\n",
              "      <td>4.35506578947368%</td>\n",
              "      <td>2.876578947368419%</td>\n",
              "      <td>0.16763157894736833%</td>\n",
              "      <td>54207.820955</td>\n",
              "      <td>3299088M_3342840F</td>\n",
              "      <td>3299088</td>\n",
              "      <td>3342840.0</td>\n",
              "    </tr>\n",
              "    <tr>\n",
              "      <th>3</th>\n",
              "      <td>Arkansas</td>\n",
              "      <td>2958208</td>\n",
              "      <td>6.215474452554738%</td>\n",
              "      <td>71.13781021897813%</td>\n",
              "      <td>18.968759124087573%</td>\n",
              "      <td>0.5229197080291965%</td>\n",
              "      <td>1.1423357664233578%</td>\n",
              "      <td>0.14686131386861315%</td>\n",
              "      <td>41935.633968</td>\n",
              "      <td>1451913M_1506295F</td>\n",
              "      <td>1451913</td>\n",
              "      <td>1506295.0</td>\n",
              "    </tr>\n",
              "    <tr>\n",
              "      <th>4</th>\n",
              "      <td>California</td>\n",
              "      <td>38421464</td>\n",
              "      <td>37.291874687968054%</td>\n",
              "      <td>40.21578881677474%</td>\n",
              "      <td>5.677396405391911%</td>\n",
              "      <td>0.40529206190713685%</td>\n",
              "      <td>13.052234148776776%</td>\n",
              "      <td>0.35141038442336353%</td>\n",
              "      <td>67264.782303</td>\n",
              "      <td>19087135M_19334329F</td>\n",
              "      <td>19087135</td>\n",
              "      <td>19334329.0</td>\n",
              "    </tr>\n",
              "  </tbody>\n",
              "</table>\n",
              "</div>"
            ],
            "text/plain": [
              "        State  TotalPop             Hispanic                White  \\\n",
              "0     Alabama   4830620  3.7516156462584975%     61.878656462585%   \n",
              "1      Alaska    733375   5.909580838323351%  60.910179640718574%   \n",
              "2     Arizona   6641928  29.565921052631502%  57.120000000000026%   \n",
              "3    Arkansas   2958208   6.215474452554738%   71.13781021897813%   \n",
              "4  California  38421464  37.291874687968054%   40.21578881677474%   \n",
              "\n",
              "                 Black                Native                Asian  \\\n",
              "0   31.25297619047618%   0.4532312925170065%  1.0502551020408146%   \n",
              "1  2.8485029940119775%    16.39101796407186%   5.450299401197604%   \n",
              "2  3.8509868421052658%     4.35506578947368%   2.876578947368419%   \n",
              "3  18.968759124087573%   0.5229197080291965%  1.1423357664233578%   \n",
              "4   5.677396405391911%  0.40529206190713685%  13.052234148776776%   \n",
              "\n",
              "                Pacific        Income            GenderPop       Men  \\\n",
              "0  0.03435374149659865%  43296.358603    2341093M_2489527F   2341093   \n",
              "1   1.0586826347305378%  70354.743902      384160M_349215F    384160   \n",
              "2  0.16763157894736833%  54207.820955    3299088M_3342840F   3299088   \n",
              "3  0.14686131386861315%  41935.633968    1451913M_1506295F   1451913   \n",
              "4  0.35141038442336353%  67264.782303  19087135M_19334329F  19087135   \n",
              "\n",
              "        Women  \n",
              "0   2489527.0  \n",
              "1    349215.0  \n",
              "2   3342840.0  \n",
              "3   1506295.0  \n",
              "4  19334329.0  "
            ]
          },
          "metadata": {
            "tags": []
          },
          "execution_count": 18
        }
      ]
    },
    {
      "cell_type": "markdown",
      "metadata": {
        "id": "DO3GIJ0kv3O_"
      },
      "source": [
        "8.\n",
        "Now you should have the columns you need to make the graph and make sure your boss does not slam a ruler angrily on your desk because you’ve wasted your whole day cleaning your data with no results to show!\n",
        "\n",
        "Use matplotlib to make a scatterplot!\n",
        "\n",
        "    plt.scatter(the_women_column, the_income_column) \n",
        "Remember to call plt.show() to see the graph!"
      ]
    },
    {
      "cell_type": "code",
      "metadata": {
        "id": "s8_HHuwgv3PD",
        "outputId": "a6b23365-e56a-4026-ff35-d3c9422ddd03"
      },
      "source": [
        "# Now plotting women's income data \n",
        "plt.scatter(us_census.Women, us_census.Income)\n",
        "plt.xlabel('Women')\n",
        "plt.ylabel('Income')\n",
        "plt.show()\n",
        "plt.clf()\n",
        "print('-----------------------------------------------')\n",
        "us_census['Women']"
      ],
      "execution_count": null,
      "outputs": [
        {
          "output_type": "display_data",
          "data": {
            "image/png": "[encoded data removed]",
            "text/plain": [
              "<Figure size 432x288 with 1 Axes>"
            ]
          },
          "metadata": {
            "tags": [],
            "needs_background": "light"
          }
        },
        {
          "output_type": "stream",
          "text": [
            "-----------------------------------------------\n"
          ],
          "name": "stdout"
        },
        {
          "output_type": "execute_result",
          "data": {
            "text/plain": [
              "0      2489527.0\n",
              "1       349215.0\n",
              "2      3342840.0\n",
              "3      1506295.0\n",
              "4     19334329.0\n",
              "5      2630239.0\n",
              "6      2630239.0\n",
              "7      1841615.0\n",
              "8       478041.0\n",
              "9       340810.0\n",
              "10    10045763.0\n",
              "11     5123362.0\n",
              "12     5123362.0\n",
              "13      696428.0\n",
              "14      806083.0\n",
              "15     6556862.0\n",
              "16     3333382.0\n",
              "17     1558931.0\n",
              "18     1558931.0\n",
              "19     1453125.0\n",
              "20     2233145.0\n",
              "21     2364097.0\n",
              "22      679019.0\n",
              "23           NaN\n",
              "24           NaN\n",
              "25     3455936.0\n",
              "26     5038598.0\n",
              "27     2727005.0\n",
              "28     1536358.0\n",
              "29     3081445.0\n",
              "30     3081445.0\n",
              "31           NaN\n",
              "32      939759.0\n",
              "33     1390901.0\n",
              "34      670717.0\n",
              "35     4561386.0\n",
              "36     4561386.0\n",
              "37     1051703.0\n",
              "38    10131373.0\n",
              "39     5049925.0\n",
              "40      353677.0\n",
              "41     5913084.0\n",
              "42     5913084.0\n",
              "43     1942789.0\n",
              "44     1990780.0\n",
              "45     6534215.0\n",
              "46     1869213.0\n",
              "47      543273.0\n",
              "48      543273.0\n",
              "49     2455167.0\n",
              "50      419713.0\n",
              "51     3331859.0\n",
              "52    13367298.0\n",
              "53     1444150.0\n",
              "54     1444150.0\n",
              "55      318031.0\n",
              "56     4195682.0\n",
              "57     3497739.0\n",
              "58      937789.0\n",
              "59     2890732.0\n",
              "Name: Women, dtype: float64"
            ]
          },
          "metadata": {
            "tags": []
          },
          "execution_count": 19
        },
        {
          "output_type": "display_data",
          "data": {
            "text/plain": [
              "<Figure size 432x288 with 0 Axes>"
            ]
          },
          "metadata": {
            "tags": []
          }
        }
      ]
    },
    {
      "cell_type": "markdown",
      "metadata": {
        "id": "NbkGzWu1v3PG"
      },
      "source": [
        "9.\n",
        "Did you get an error? These monstrous csv files probably have nan values in them! Print out your column with the number of women per state to see.\n",
        "\n",
        "We can fill in those NaNs by using pandas’ .fillna() function.\n",
        "\n",
        "You have the TotalPop per state, and you have the Men per state. As an estimate for the nan values in the Women column, you could use the TotalPop of that state minus the Men for that state.\n",
        "\n",
        "Print out the Women column after filling the nan values to see if it worked!"
      ]
    },
    {
      "cell_type": "code",
      "metadata": {
        "scrolled": true,
        "id": "dppNBLZ5v3PJ",
        "outputId": "b3e7e8d1-5a9a-445b-8c68-8a8279a40047"
      },
      "source": [
        "us_census.Women.isnull()"
      ],
      "execution_count": null,
      "outputs": [
        {
          "output_type": "execute_result",
          "data": {
            "text/plain": [
              "0     False\n",
              "1     False\n",
              "2     False\n",
              "3     False\n",
              "4     False\n",
              "5     False\n",
              "6     False\n",
              "7     False\n",
              "8     False\n",
              "9     False\n",
              "10    False\n",
              "11    False\n",
              "12    False\n",
              "13    False\n",
              "14    False\n",
              "15    False\n",
              "16    False\n",
              "17    False\n",
              "18    False\n",
              "19    False\n",
              "20    False\n",
              "21    False\n",
              "22    False\n",
              "23     True\n",
              "24     True\n",
              "25    False\n",
              "26    False\n",
              "27    False\n",
              "28    False\n",
              "29    False\n",
              "30    False\n",
              "31     True\n",
              "32    False\n",
              "33    False\n",
              "34    False\n",
              "35    False\n",
              "36    False\n",
              "37    False\n",
              "38    False\n",
              "39    False\n",
              "40    False\n",
              "41    False\n",
              "42    False\n",
              "43    False\n",
              "44    False\n",
              "45    False\n",
              "46    False\n",
              "47    False\n",
              "48    False\n",
              "49    False\n",
              "50    False\n",
              "51    False\n",
              "52    False\n",
              "53    False\n",
              "54    False\n",
              "55    False\n",
              "56    False\n",
              "57    False\n",
              "58    False\n",
              "59    False\n",
              "Name: Women, dtype: bool"
            ]
          },
          "metadata": {
            "tags": []
          },
          "execution_count": 20
        }
      ]
    },
    {
      "cell_type": "code",
      "metadata": {
        "id": "1fBiRKgCv3PL",
        "outputId": "74c16fc4-3762-400e-b1d5-d7fc7d693fb1"
      },
      "source": [
        "# checking Null Value Counts\n",
        "us_census.Women.isnull().value_counts()"
      ],
      "execution_count": null,
      "outputs": [
        {
          "output_type": "execute_result",
          "data": {
            "text/plain": [
              "False    57\n",
              "True      3\n",
              "Name: Women, dtype: int64"
            ]
          },
          "metadata": {
            "tags": []
          },
          "execution_count": 21
        }
      ]
    },
    {
      "cell_type": "code",
      "metadata": {
        "id": "T3bGKMR8v3PP",
        "outputId": "4d9dfded-a796-4319-998b-c78c710206df"
      },
      "source": [
        "# Checking an example of a record indexed at '23'\n",
        "check_Nan_example = us_census[['TotalPop', 'Men','Women']]\n",
        "check_Nan_example.iloc[23]"
      ],
      "execution_count": null,
      "outputs": [
        {
          "output_type": "execute_result",
          "data": {
            "text/plain": [
              "TotalPop    5930538.0\n",
              "Men         2872643.0\n",
              "Women             NaN\n",
              "Name: 23, dtype: float64"
            ]
          },
          "metadata": {
            "tags": []
          },
          "execution_count": 22
        }
      ]
    },
    {
      "cell_type": "code",
      "metadata": {
        "scrolled": true,
        "id": "W5kb26B-v3PS",
        "outputId": "50306569-e9d5-4bf2-8c0c-9141a69ad0a0"
      },
      "source": [
        "# Filling NA values in \"Women\" column we can replace these by, some values like (Total Population - Men's column)\n",
        "\n",
        "us_census['Women'] = us_census['Women'].fillna(us_census.TotalPop - us_census.Men)\n",
        "us_census.Women"
      ],
      "execution_count": null,
      "outputs": [
        {
          "output_type": "execute_result",
          "data": {
            "text/plain": [
              "0      2489527.0\n",
              "1       349215.0\n",
              "2      3342840.0\n",
              "3      1506295.0\n",
              "4     19334329.0\n",
              "5      2630239.0\n",
              "6      2630239.0\n",
              "7      1841615.0\n",
              "8       478041.0\n",
              "9       340810.0\n",
              "10    10045763.0\n",
              "11     5123362.0\n",
              "12     5123362.0\n",
              "13      696428.0\n",
              "14      806083.0\n",
              "15     6556862.0\n",
              "16     3333382.0\n",
              "17     1558931.0\n",
              "18     1558931.0\n",
              "19     1453125.0\n",
              "20     2233145.0\n",
              "21     2364097.0\n",
              "22      679019.0\n",
              "23     3057895.0\n",
              "24     3057895.0\n",
              "25     3455936.0\n",
              "26     5038598.0\n",
              "27     2727005.0\n",
              "28     1536358.0\n",
              "29     3081445.0\n",
              "30     3081445.0\n",
              "31      504536.0\n",
              "32      939759.0\n",
              "33     1390901.0\n",
              "34      670717.0\n",
              "35     4561386.0\n",
              "36     4561386.0\n",
              "37     1051703.0\n",
              "38    10131373.0\n",
              "39     5049925.0\n",
              "40      353677.0\n",
              "41     5913084.0\n",
              "42     5913084.0\n",
              "43     1942789.0\n",
              "44     1990780.0\n",
              "45     6534215.0\n",
              "46     1869213.0\n",
              "47      543273.0\n",
              "48      543273.0\n",
              "49     2455167.0\n",
              "50      419713.0\n",
              "51     3331859.0\n",
              "52    13367298.0\n",
              "53     1444150.0\n",
              "54     1444150.0\n",
              "55      318031.0\n",
              "56     4195682.0\n",
              "57     3497739.0\n",
              "58      937789.0\n",
              "59     2890732.0\n",
              "Name: Women, dtype: float64"
            ]
          },
          "metadata": {
            "tags": []
          },
          "execution_count": 23
        }
      ]
    },
    {
      "cell_type": "code",
      "metadata": {
        "id": "DE_cZ4SRv3PV",
        "outputId": "f952650c-25ea-47f3-e2b6-79691de86089"
      },
      "source": [
        "# checking again for Null Value Counts\n",
        "us_census.Women.isnull().value_counts()"
      ],
      "execution_count": null,
      "outputs": [
        {
          "output_type": "execute_result",
          "data": {
            "text/plain": [
              "False    60\n",
              "Name: Women, dtype: int64"
            ]
          },
          "metadata": {
            "tags": []
          },
          "execution_count": 24
        }
      ]
    },
    {
      "cell_type": "markdown",
      "metadata": {
        "id": "p7pEGCl5v3Pf"
      },
      "source": [
        "10.\n",
        "We forgot to check for duplicates! Use .duplicated() on your census DataFrame to see if we have duplicate rows in there."
      ]
    },
    {
      "cell_type": "code",
      "metadata": {
        "id": "n3MKpu3Hv3Ph",
        "outputId": "cfcf34b7-ecf6-4ee6-9a3f-59d9105a84fa"
      },
      "source": [
        "# checking the duplicated values in the DataFrame\n",
        "us_census.duplicated()"
      ],
      "execution_count": null,
      "outputs": [
        {
          "output_type": "execute_result",
          "data": {
            "text/plain": [
              "0     False\n",
              "1     False\n",
              "2     False\n",
              "3     False\n",
              "4     False\n",
              "5     False\n",
              "6      True\n",
              "7     False\n",
              "8     False\n",
              "9     False\n",
              "10    False\n",
              "11    False\n",
              "12     True\n",
              "13    False\n",
              "14    False\n",
              "15    False\n",
              "16    False\n",
              "17    False\n",
              "18     True\n",
              "19    False\n",
              "20    False\n",
              "21    False\n",
              "22    False\n",
              "23    False\n",
              "24     True\n",
              "25    False\n",
              "26    False\n",
              "27    False\n",
              "28    False\n",
              "29    False\n",
              "30     True\n",
              "31    False\n",
              "32    False\n",
              "33    False\n",
              "34    False\n",
              "35    False\n",
              "36     True\n",
              "37    False\n",
              "38    False\n",
              "39    False\n",
              "40    False\n",
              "41    False\n",
              "42     True\n",
              "43    False\n",
              "44    False\n",
              "45    False\n",
              "46    False\n",
              "47    False\n",
              "48     True\n",
              "49    False\n",
              "50    False\n",
              "51    False\n",
              "52    False\n",
              "53    False\n",
              "54     True\n",
              "55    False\n",
              "56    False\n",
              "57    False\n",
              "58    False\n",
              "59    False\n",
              "dtype: bool"
            ]
          },
          "metadata": {
            "tags": []
          },
          "execution_count": 25
        }
      ]
    },
    {
      "cell_type": "code",
      "metadata": {
        "id": "NQ9lVWRZv3Pk",
        "outputId": "ced0122d-ebe3-414a-bcb2-ca193a93628a"
      },
      "source": [
        "# checking the duplicated Counts\n",
        "us_census.duplicated().value_counts()"
      ],
      "execution_count": null,
      "outputs": [
        {
          "output_type": "execute_result",
          "data": {
            "text/plain": [
              "False    51\n",
              "True      9\n",
              "dtype: int64"
            ]
          },
          "metadata": {
            "tags": []
          },
          "execution_count": 26
        }
      ]
    },
    {
      "cell_type": "markdown",
      "metadata": {
        "id": "gRK9JG7Tv3Pm"
      },
      "source": [
        "11.\n",
        "Drop those duplicates using the .drop_duplicates() function."
      ]
    },
    {
      "cell_type": "code",
      "metadata": {
        "id": "RDzCxoeMv3Po",
        "outputId": "535bb2d0-875a-4f88-8cfe-82c0f6f01436"
      },
      "source": [
        "clean_us_census = us_census.drop_duplicates()\n",
        "clean_us_census"
      ],
      "execution_count": null,
      "outputs": [
        {
          "output_type": "execute_result",
          "data": {
            "text/html": [
              "<div>\n",
              "<style scoped>\n",
              "    .dataframe tbody tr th:only-of-type {\n",
              "        vertical-align: middle;\n",
              "    }\n",
              "\n",
              "    .dataframe tbody tr th {\n",
              "        vertical-align: top;\n",
              "    }\n",
              "\n",
              "    .dataframe thead th {\n",
              "        text-align: right;\n",
              "    }\n",
              "</style>\n",
              "<table border=\"1\" class=\"dataframe\">\n",
              "  <thead>\n",
              "    <tr style=\"text-align: right;\">\n",
              "      <th></th>\n",
              "      <th>State</th>\n",
              "      <th>TotalPop</th>\n",
              "      <th>Hispanic</th>\n",
              "      <th>White</th>\n",
              "      <th>Black</th>\n",
              "      <th>Native</th>\n",
              "      <th>Asian</th>\n",
              "      <th>Pacific</th>\n",
              "      <th>Income</th>\n",
              "      <th>GenderPop</th>\n",
              "      <th>Men</th>\n",
              "      <th>Women</th>\n",
              "    </tr>\n",
              "  </thead>\n",
              "  <tbody>\n",
              "    <tr>\n",
              "      <th>0</th>\n",
              "      <td>Alabama</td>\n",
              "      <td>4830620</td>\n",
              "      <td>3.7516156462584975%</td>\n",
              "      <td>61.878656462585%</td>\n",
              "      <td>31.25297619047618%</td>\n",
              "      <td>0.4532312925170065%</td>\n",
              "      <td>1.0502551020408146%</td>\n",
              "      <td>0.03435374149659865%</td>\n",
              "      <td>43296.358603</td>\n",
              "      <td>2341093M_2489527F</td>\n",
              "      <td>2341093</td>\n",
              "      <td>2489527.0</td>\n",
              "    </tr>\n",
              "    <tr>\n",
              "      <th>1</th>\n",
              "      <td>Alaska</td>\n",
              "      <td>733375</td>\n",
              "      <td>5.909580838323351%</td>\n",
              "      <td>60.910179640718574%</td>\n",
              "      <td>2.8485029940119775%</td>\n",
              "      <td>16.39101796407186%</td>\n",
              "      <td>5.450299401197604%</td>\n",
              "      <td>1.0586826347305378%</td>\n",
              "      <td>70354.743902</td>\n",
              "      <td>384160M_349215F</td>\n",
              "      <td>384160</td>\n",
              "      <td>349215.0</td>\n",
              "    </tr>\n",
              "    <tr>\n",
              "      <th>2</th>\n",
              "      <td>Arizona</td>\n",
              "      <td>6641928</td>\n",
              "      <td>29.565921052631502%</td>\n",
              "      <td>57.120000000000026%</td>\n",
              "      <td>3.8509868421052658%</td>\n",
              "      <td>4.35506578947368%</td>\n",
              "      <td>2.876578947368419%</td>\n",
              "      <td>0.16763157894736833%</td>\n",
              "      <td>54207.820955</td>\n",
              "      <td>3299088M_3342840F</td>\n",
              "      <td>3299088</td>\n",
              "      <td>3342840.0</td>\n",
              "    </tr>\n",
              "    <tr>\n",
              "      <th>3</th>\n",
              "      <td>Arkansas</td>\n",
              "      <td>2958208</td>\n",
              "      <td>6.215474452554738%</td>\n",
              "      <td>71.13781021897813%</td>\n",
              "      <td>18.968759124087573%</td>\n",
              "      <td>0.5229197080291965%</td>\n",
              "      <td>1.1423357664233578%</td>\n",
              "      <td>0.14686131386861315%</td>\n",
              "      <td>41935.633968</td>\n",
              "      <td>1451913M_1506295F</td>\n",
              "      <td>1451913</td>\n",
              "      <td>1506295.0</td>\n",
              "    </tr>\n",
              "    <tr>\n",
              "      <th>4</th>\n",
              "      <td>California</td>\n",
              "      <td>38421464</td>\n",
              "      <td>37.291874687968054%</td>\n",
              "      <td>40.21578881677474%</td>\n",
              "      <td>5.677396405391911%</td>\n",
              "      <td>0.40529206190713685%</td>\n",
              "      <td>13.052234148776776%</td>\n",
              "      <td>0.35141038442336353%</td>\n",
              "      <td>67264.782303</td>\n",
              "      <td>19087135M_19334329F</td>\n",
              "      <td>19087135</td>\n",
              "      <td>19334329.0</td>\n",
              "    </tr>\n",
              "    <tr>\n",
              "      <th>5</th>\n",
              "      <td>Colorado</td>\n",
              "      <td>5278906</td>\n",
              "      <td>20.78438003220608%</td>\n",
              "      <td>69.89557165861504%</td>\n",
              "      <td>3.546376811594201%</td>\n",
              "      <td>0.5738325281803548%</td>\n",
              "      <td>2.661996779388082%</td>\n",
              "      <td>NaN</td>\n",
              "      <td>64657.801787</td>\n",
              "      <td>2648667M_2630239F</td>\n",
              "      <td>2648667</td>\n",
              "      <td>2630239.0</td>\n",
              "    </tr>\n",
              "    <tr>\n",
              "      <th>7</th>\n",
              "      <td>Connecticut</td>\n",
              "      <td>3593222</td>\n",
              "      <td>15.604830917874388%</td>\n",
              "      <td>67.6770531400966%</td>\n",
              "      <td>10.34806763285027%</td>\n",
              "      <td>0.12620772946859898%</td>\n",
              "      <td>4.021980676328502%</td>\n",
              "      <td>0.018599033816425123%</td>\n",
              "      <td>76146.560588</td>\n",
              "      <td>1751607M_1841615F</td>\n",
              "      <td>1751607</td>\n",
              "      <td>1841615.0</td>\n",
              "    </tr>\n",
              "    <tr>\n",
              "      <th>8</th>\n",
              "      <td>Delaware</td>\n",
              "      <td>926454</td>\n",
              "      <td>8.82476635514019%</td>\n",
              "      <td>64.63271028037383%</td>\n",
              "      <td>20.743925233644834%</td>\n",
              "      <td>0.25981308411214965%</td>\n",
              "      <td>3.2686915887850483%</td>\n",
              "      <td>NaN</td>\n",
              "      <td>61827.976636</td>\n",
              "      <td>448413M_478041F</td>\n",
              "      <td>448413</td>\n",
              "      <td>478041.0</td>\n",
              "    </tr>\n",
              "    <tr>\n",
              "      <th>9</th>\n",
              "      <td>District of Columbia</td>\n",
              "      <td>647484</td>\n",
              "      <td>9.165921787709499%</td>\n",
              "      <td>33.103910614525134%</td>\n",
              "      <td>51.77653631284915%</td>\n",
              "      <td>0.20055865921787713%</td>\n",
              "      <td>3.3832402234636865%</td>\n",
              "      <td>0.029608938547486034%</td>\n",
              "      <td>75466.363636</td>\n",
              "      <td>306674M_340810F</td>\n",
              "      <td>306674</td>\n",
              "      <td>340810.0</td>\n",
              "    </tr>\n",
              "    <tr>\n",
              "      <th>10</th>\n",
              "      <td>Florida</td>\n",
              "      <td>19645772</td>\n",
              "      <td>21.3385426653884%</td>\n",
              "      <td>59.08374880153398%</td>\n",
              "      <td>15.165675934803444%</td>\n",
              "      <td>0.2104506232023015%</td>\n",
              "      <td>2.2831735378715257%</td>\n",
              "      <td>0.05151006711409391%</td>\n",
              "      <td>50690.194987</td>\n",
              "      <td>9600009M_10045763F</td>\n",
              "      <td>9600009</td>\n",
              "      <td>10045763.0</td>\n",
              "    </tr>\n",
              "    <tr>\n",
              "      <th>11</th>\n",
              "      <td>Georgia</td>\n",
              "      <td>10006693</td>\n",
              "      <td>8.418242207460397%</td>\n",
              "      <td>54.28630556974962%</td>\n",
              "      <td>32.08829841594277%</td>\n",
              "      <td>0.18758303525804798%</td>\n",
              "      <td>3.0976494634644895%</td>\n",
              "      <td>0.046601941747572824%</td>\n",
              "      <td>50811.082051</td>\n",
              "      <td>4883331M_5123362F</td>\n",
              "      <td>4883331</td>\n",
              "      <td>5123362.0</td>\n",
              "    </tr>\n",
              "    <tr>\n",
              "      <th>13</th>\n",
              "      <td>Hawaii</td>\n",
              "      <td>1406299</td>\n",
              "      <td>9.186708860759486%</td>\n",
              "      <td>25.032278481012657%</td>\n",
              "      <td>2.052848101265823%</td>\n",
              "      <td>0.1449367088607596%</td>\n",
              "      <td>36.59208860759495%</td>\n",
              "      <td>8.758860759493672%</td>\n",
              "      <td>73264.426282</td>\n",
              "      <td>709871M_696428F</td>\n",
              "      <td>709871</td>\n",
              "      <td>696428.0</td>\n",
              "    </tr>\n",
              "    <tr>\n",
              "      <th>14</th>\n",
              "      <td>Idaho</td>\n",
              "      <td>1616547</td>\n",
              "      <td>11.505369127516781%</td>\n",
              "      <td>83.1362416107383%</td>\n",
              "      <td>0.5667785234899323%</td>\n",
              "      <td>1.468120805369128%</td>\n",
              "      <td>1.135906040268457%</td>\n",
              "      <td>0.1271812080536914%</td>\n",
              "      <td>48017.315436</td>\n",
              "      <td>810464M_806083F</td>\n",
              "      <td>810464</td>\n",
              "      <td>806083.0</td>\n",
              "    </tr>\n",
              "    <tr>\n",
              "      <th>15</th>\n",
              "      <td>Illinois</td>\n",
              "      <td>12873761</td>\n",
              "      <td>15.601733547351516%</td>\n",
              "      <td>60.85980738362764%</td>\n",
              "      <td>17.108410914927717%</td>\n",
              "      <td>0.11842696629213499%</td>\n",
              "      <td>4.475377207062604%</td>\n",
              "      <td>0.02003210272873195%</td>\n",
              "      <td>59587.048875</td>\n",
              "      <td>6316899M_6556862F</td>\n",
              "      <td>6316899</td>\n",
              "      <td>6556862.0</td>\n",
              "    </tr>\n",
              "    <tr>\n",
              "      <th>16</th>\n",
              "      <td>Indiana</td>\n",
              "      <td>6568645</td>\n",
              "      <td>6.536744186046501%</td>\n",
              "      <td>78.43189368770771%</td>\n",
              "      <td>11.18697674418606%</td>\n",
              "      <td>0.1940863787375415%</td>\n",
              "      <td>1.5782724252491687%</td>\n",
              "      <td>0.03262458471760798%</td>\n",
              "      <td>48616.227848</td>\n",
              "      <td>3235263M_3333382F</td>\n",
              "      <td>3235263</td>\n",
              "      <td>3333382.0</td>\n",
              "    </tr>\n",
              "    <tr>\n",
              "      <th>17</th>\n",
              "      <td>Iowa</td>\n",
              "      <td>3093526</td>\n",
              "      <td>5.30364520048603%</td>\n",
              "      <td>87.71968408262464%</td>\n",
              "      <td>3.2569866342648868%</td>\n",
              "      <td>0.2897934386391251%</td>\n",
              "      <td>1.699392466585662%</td>\n",
              "      <td>0.055164034021871235%</td>\n",
              "      <td>53017.753041</td>\n",
              "      <td>1534595M_1558931F</td>\n",
              "      <td>1534595</td>\n",
              "      <td>1558931.0</td>\n",
              "    </tr>\n",
              "    <tr>\n",
              "      <th>19</th>\n",
              "      <td>Kansas</td>\n",
              "      <td>2892987</td>\n",
              "      <td>11.644342105263148%</td>\n",
              "      <td>75.95828947368425%</td>\n",
              "      <td>6.5678947368421%</td>\n",
              "      <td>0.7339473684210529%</td>\n",
              "      <td>2.331052631578946%</td>\n",
              "      <td>NaN</td>\n",
              "      <td>53885.612648</td>\n",
              "      <td>1439862M_1453125F</td>\n",
              "      <td>1439862</td>\n",
              "      <td>1453125.0</td>\n",
              "    </tr>\n",
              "    <tr>\n",
              "      <th>20</th>\n",
              "      <td>Kentucky</td>\n",
              "      <td>4397353</td>\n",
              "      <td>3.222993688007212%</td>\n",
              "      <td>85.2307484220019%</td>\n",
              "      <td>8.272317403065832%</td>\n",
              "      <td>0.1666366095581602%</td>\n",
              "      <td>1.1298467087466182%</td>\n",
              "      <td>0.046438232642019836%</td>\n",
              "      <td>45285.802536</td>\n",
              "      <td>2164208M_2233145F</td>\n",
              "      <td>2164208</td>\n",
              "      <td>2233145.0</td>\n",
              "    </tr>\n",
              "    <tr>\n",
              "      <th>21</th>\n",
              "      <td>Louisiana</td>\n",
              "      <td>4625253</td>\n",
              "      <td>4.866489361702128%</td>\n",
              "      <td>54.978546099290796%</td>\n",
              "      <td>36.32624113475175%</td>\n",
              "      <td>0.48430851063829816%</td>\n",
              "      <td>1.669060283687941%</td>\n",
              "      <td>0.039184397163120555%</td>\n",
              "      <td>44957.993761</td>\n",
              "      <td>2261156M_2364097F</td>\n",
              "      <td>2261156</td>\n",
              "      <td>2364097.0</td>\n",
              "    </tr>\n",
              "    <tr>\n",
              "      <th>22</th>\n",
              "      <td>Maine</td>\n",
              "      <td>1329100</td>\n",
              "      <td>1.4319088319088318%</td>\n",
              "      <td>93.70740740740736%</td>\n",
              "      <td>1.1344729344729356%</td>\n",
              "      <td>0.7883190883190888%</td>\n",
              "      <td>0.9658119658119669%</td>\n",
              "      <td>0.01566951566951567%</td>\n",
              "      <td>49181.974359</td>\n",
              "      <td>650081M_679019F</td>\n",
              "      <td>650081</td>\n",
              "      <td>679019.0</td>\n",
              "    </tr>\n",
              "    <tr>\n",
              "      <th>23</th>\n",
              "      <td>Maryland</td>\n",
              "      <td>5930538</td>\n",
              "      <td>8.47249820014399%</td>\n",
              "      <td>52.679049676026%</td>\n",
              "      <td>30.6777537796976%</td>\n",
              "      <td>0.20309575233981278%</td>\n",
              "      <td>5.325413966882652%</td>\n",
              "      <td>0.03628509719222463%</td>\n",
              "      <td>78765.400725</td>\n",
              "      <td>2872643M_F</td>\n",
              "      <td>2872643</td>\n",
              "      <td>3057895.0</td>\n",
              "    </tr>\n",
              "    <tr>\n",
              "      <th>25</th>\n",
              "      <td>Massachusetts</td>\n",
              "      <td>6705586</td>\n",
              "      <td>11.461065573770476%</td>\n",
              "      <td>73.04105191256845%</td>\n",
              "      <td>6.83312841530056%</td>\n",
              "      <td>0.12827868852459007%</td>\n",
              "      <td>5.835655737704914%</td>\n",
              "      <td>0.0198087431693989%</td>\n",
              "      <td>72838.936726</td>\n",
              "      <td>3249650M_3455936F</td>\n",
              "      <td>3249650</td>\n",
              "      <td>3455936.0</td>\n",
              "    </tr>\n",
              "    <tr>\n",
              "      <th>26</th>\n",
              "      <td>Michigan</td>\n",
              "      <td>9900571</td>\n",
              "      <td>4.634992732558134%</td>\n",
              "      <td>72.38172238372084%</td>\n",
              "      <td>17.633103197674423%</td>\n",
              "      <td>0.48441133720930313%</td>\n",
              "      <td>2.4231104651162796%</td>\n",
              "      <td>0.01954941860465116%</td>\n",
              "      <td>51201.830037</td>\n",
              "      <td>4861973M_5038598F</td>\n",
              "      <td>4861973</td>\n",
              "      <td>5038598.0</td>\n",
              "    </tr>\n",
              "    <tr>\n",
              "      <th>27</th>\n",
              "      <td>Minnesota</td>\n",
              "      <td>5419171</td>\n",
              "      <td>5.152923538230896%</td>\n",
              "      <td>81.42706146926535%</td>\n",
              "      <td>5.65982008995502%</td>\n",
              "      <td>1.069040479760119%</td>\n",
              "      <td>4.156071964017996%</td>\n",
              "      <td>0.032908545727136446%</td>\n",
              "      <td>62820.833959</td>\n",
              "      <td>2692166M_2727005F</td>\n",
              "      <td>2692166</td>\n",
              "      <td>2727005.0</td>\n",
              "    </tr>\n",
              "    <tr>\n",
              "      <th>28</th>\n",
              "      <td>Mississippi</td>\n",
              "      <td>2988081</td>\n",
              "      <td>2.842401215805473%</td>\n",
              "      <td>53.28632218844981%</td>\n",
              "      <td>41.491945288753804%</td>\n",
              "      <td>0.3899696048632216%</td>\n",
              "      <td>0.8764437689969605%</td>\n",
              "      <td>0.015045592705167175%</td>\n",
              "      <td>38909.919207</td>\n",
              "      <td>1451723M_1536358F</td>\n",
              "      <td>1451723</td>\n",
              "      <td>1536358.0</td>\n",
              "    </tr>\n",
              "    <tr>\n",
              "      <th>29</th>\n",
              "      <td>Missouri</td>\n",
              "      <td>6045448</td>\n",
              "      <td>4.037247838616718%</td>\n",
              "      <td>77.508069164265%</td>\n",
              "      <td>14.122118155619594%</td>\n",
              "      <td>0.36332853025936646%</td>\n",
              "      <td>1.6244956772334296%</td>\n",
              "      <td>0.10165706051873193%</td>\n",
              "      <td>49763.987726</td>\n",
              "      <td>2964003M_3081445F</td>\n",
              "      <td>2964003</td>\n",
              "      <td>3081445.0</td>\n",
              "    </tr>\n",
              "    <tr>\n",
              "      <th>31</th>\n",
              "      <td>Montana</td>\n",
              "      <td>1014699</td>\n",
              "      <td>3.2688888888888896%</td>\n",
              "      <td>86.41555555555554%</td>\n",
              "      <td>0.4292592592592591%</td>\n",
              "      <td>7.0607407407407425%</td>\n",
              "      <td>0.5703703703703705%</td>\n",
              "      <td>0.07222222222222222%</td>\n",
              "      <td>47645.682836</td>\n",
              "      <td>510163M_F</td>\n",
              "      <td>510163</td>\n",
              "      <td>504536.0</td>\n",
              "    </tr>\n",
              "    <tr>\n",
              "      <th>32</th>\n",
              "      <td>Nebraska</td>\n",
              "      <td>1869365</td>\n",
              "      <td>9.203759398496235%</td>\n",
              "      <td>81.13947368421056%</td>\n",
              "      <td>4.956203007518794%</td>\n",
              "      <td>0.8644736842105263%</td>\n",
              "      <td>1.8590225563909788%</td>\n",
              "      <td>0.05714285714285715%</td>\n",
              "      <td>55916.469697</td>\n",
              "      <td>929606M_939759F</td>\n",
              "      <td>929606</td>\n",
              "      <td>939759.0</td>\n",
              "    </tr>\n",
              "    <tr>\n",
              "      <th>33</th>\n",
              "      <td>Nevada</td>\n",
              "      <td>2798636</td>\n",
              "      <td>27.100883652430046%</td>\n",
              "      <td>53.23932253313698%</td>\n",
              "      <td>7.739617083946994%</td>\n",
              "      <td>1.0871870397643593%</td>\n",
              "      <td>7.095729013254786%</td>\n",
              "      <td>0.5745213549337267%</td>\n",
              "      <td>55526.525074</td>\n",
              "      <td>1407735M_1390901F</td>\n",
              "      <td>1407735</td>\n",
              "      <td>1390901.0</td>\n",
              "    </tr>\n",
              "    <tr>\n",
              "      <th>34</th>\n",
              "      <td>New Hampshire</td>\n",
              "      <td>1324201</td>\n",
              "      <td>3.3219178082191796%</td>\n",
              "      <td>91.31917808219184%</td>\n",
              "      <td>1.2277397260273974%</td>\n",
              "      <td>0.14280821917808229%</td>\n",
              "      <td>2.191438356164382%</td>\n",
              "      <td>0.016095890410958904%</td>\n",
              "      <td>68728.859589</td>\n",
              "      <td>653484M_670717F</td>\n",
              "      <td>653484</td>\n",
              "      <td>670717.0</td>\n",
              "    </tr>\n",
              "    <tr>\n",
              "      <th>35</th>\n",
              "      <td>New Jersey</td>\n",
              "      <td>8904413</td>\n",
              "      <td>18.74950049950049%</td>\n",
              "      <td>56.488761238761285%</td>\n",
              "      <td>14.387862137862117%</td>\n",
              "      <td>0.11533466533466513%</td>\n",
              "      <td>8.159990009990018%</td>\n",
              "      <td>0.031318681318681325%</td>\n",
              "      <td>76581.083417</td>\n",
              "      <td>4343027M_4561386F</td>\n",
              "      <td>4343027</td>\n",
              "      <td>4561386.0</td>\n",
              "    </tr>\n",
              "    <tr>\n",
              "      <th>37</th>\n",
              "      <td>New Mexico</td>\n",
              "      <td>2084117</td>\n",
              "      <td>45.28293172690762%</td>\n",
              "      <td>40.69799196787147%</td>\n",
              "      <td>1.7550200803212852%</td>\n",
              "      <td>9.248594377510045%</td>\n",
              "      <td>1.23433734939759%</td>\n",
              "      <td>0.04277108433734938%</td>\n",
              "      <td>47329.967871</td>\n",
              "      <td>1032414M_1051703F</td>\n",
              "      <td>1032414</td>\n",
              "      <td>1051703.0</td>\n",
              "    </tr>\n",
              "    <tr>\n",
              "      <th>38</th>\n",
              "      <td>New York</td>\n",
              "      <td>19673174</td>\n",
              "      <td>17.241424747786684%</td>\n",
              "      <td>56.4701050030883%</td>\n",
              "      <td>15.668046119003515%</td>\n",
              "      <td>0.32163887173152117%</td>\n",
              "      <td>7.8971587399629355%</td>\n",
              "      <td>0.023450689726168417%</td>\n",
              "      <td>64290.749113</td>\n",
              "      <td>9541801M_10131373F</td>\n",
              "      <td>9541801</td>\n",
              "      <td>10131373.0</td>\n",
              "    </tr>\n",
              "    <tr>\n",
              "      <th>39</th>\n",
              "      <td>North Carolina</td>\n",
              "      <td>9845333</td>\n",
              "      <td>8.464762782128062%</td>\n",
              "      <td>64.5976508521419%</td>\n",
              "      <td>21.3951174573929%</td>\n",
              "      <td>1.0854905573468434%</td>\n",
              "      <td>2.317457392906495%</td>\n",
              "      <td>0.05232611699677568%</td>\n",
              "      <td>49937.464137</td>\n",
              "      <td>4795408M_5049925F</td>\n",
              "      <td>4795408</td>\n",
              "      <td>5049925.0</td>\n",
              "    </tr>\n",
              "    <tr>\n",
              "      <th>40</th>\n",
              "      <td>North Dakota</td>\n",
              "      <td>721640</td>\n",
              "      <td>2.832682926829267%</td>\n",
              "      <td>87.44829268292683%</td>\n",
              "      <td>1.2843902439024397%</td>\n",
              "      <td>5.651219512195119%</td>\n",
              "      <td>0.9619512195121945%</td>\n",
              "      <td>NaN</td>\n",
              "      <td>58188.112195</td>\n",
              "      <td>367963M_353677F</td>\n",
              "      <td>367963</td>\n",
              "      <td>353677.0</td>\n",
              "    </tr>\n",
              "    <tr>\n",
              "      <th>41</th>\n",
              "      <td>Ohio</td>\n",
              "      <td>11575977</td>\n",
              "      <td>3.6720843250595037%</td>\n",
              "      <td>75.90306018361096%</td>\n",
              "      <td>16.207276436586163%</td>\n",
              "      <td>0.16888813328799712%</td>\n",
              "      <td>1.6210812648758952%</td>\n",
              "      <td>0.022645358721523304%</td>\n",
              "      <td>49655.248466</td>\n",
              "      <td>5662893M_5913084F</td>\n",
              "      <td>5662893</td>\n",
              "      <td>5913084.0</td>\n",
              "    </tr>\n",
              "    <tr>\n",
              "      <th>43</th>\n",
              "      <td>Oklahoma</td>\n",
              "      <td>3849733</td>\n",
              "      <td>10.0799043062201%</td>\n",
              "      <td>66.05942583732046%</td>\n",
              "      <td>8.314736842105255%</td>\n",
              "      <td>6.716842105263157%</td>\n",
              "      <td>1.8011483253588516%</td>\n",
              "      <td>0.10622009569377985%</td>\n",
              "      <td>48100.854267</td>\n",
              "      <td>1906944M_1942789F</td>\n",
              "      <td>1906944</td>\n",
              "      <td>1942789.0</td>\n",
              "    </tr>\n",
              "    <tr>\n",
              "      <th>44</th>\n",
              "      <td>Oregon</td>\n",
              "      <td>3939233</td>\n",
              "      <td>11.441212121212132%</td>\n",
              "      <td>78.39551515151517%</td>\n",
              "      <td>1.730787878787877%</td>\n",
              "      <td>1.0002424242424257%</td>\n",
              "      <td>3.594909090909088%</td>\n",
              "      <td>0.3453333333333332%</td>\n",
              "      <td>54271.901818</td>\n",
              "      <td>1948453M_1990780F</td>\n",
              "      <td>1948453</td>\n",
              "      <td>1990780.0</td>\n",
              "    </tr>\n",
              "    <tr>\n",
              "      <th>45</th>\n",
              "      <td>Pennsylvania</td>\n",
              "      <td>12779559</td>\n",
              "      <td>6.128013741411624%</td>\n",
              "      <td>77.38385384134914%</td>\n",
              "      <td>11.633947532791995%</td>\n",
              "      <td>0.11926920674578385%</td>\n",
              "      <td>2.7977514053716495%</td>\n",
              "      <td>0.019394128669581522%</td>\n",
              "      <td>56170.464510</td>\n",
              "      <td>6245344M_6534215F</td>\n",
              "      <td>6245344</td>\n",
              "      <td>6534215.0</td>\n",
              "    </tr>\n",
              "    <tr>\n",
              "      <th>46</th>\n",
              "      <td>Puerto Rico</td>\n",
              "      <td>3583073</td>\n",
              "      <td>98.89357384441935%</td>\n",
              "      <td>0.7736189402480265%</td>\n",
              "      <td>0.0925591882750846%</td>\n",
              "      <td>0.0028184892897406984%</td>\n",
              "      <td>0.07519729425028186%</td>\n",
              "      <td>0.0012401352874859078%</td>\n",
              "      <td>20720.538286</td>\n",
              "      <td>1713860M_1869213F</td>\n",
              "      <td>1713860</td>\n",
              "      <td>1869213.0</td>\n",
              "    </tr>\n",
              "    <tr>\n",
              "      <th>47</th>\n",
              "      <td>Rhode Island</td>\n",
              "      <td>1053661</td>\n",
              "      <td>13.356666666666678%</td>\n",
              "      <td>74.32541666666665%</td>\n",
              "      <td>5.68291666666667%</td>\n",
              "      <td>0.3462500000000001%</td>\n",
              "      <td>3.2474999999999983%</td>\n",
              "      <td>0.035833333333333335%</td>\n",
              "      <td>59125.270833</td>\n",
              "      <td>510388M_543273F</td>\n",
              "      <td>510388</td>\n",
              "      <td>543273.0</td>\n",
              "    </tr>\n",
              "    <tr>\n",
              "      <th>49</th>\n",
              "      <td>South Carolina</td>\n",
              "      <td>4777576</td>\n",
              "      <td>5.056684981684991%</td>\n",
              "      <td>62.888736263736185%</td>\n",
              "      <td>28.75091575091577%</td>\n",
              "      <td>0.2923992673992673%</td>\n",
              "      <td>1.249175824175822%</td>\n",
              "      <td>0.046978021978021964%</td>\n",
              "      <td>46296.807763</td>\n",
              "      <td>2322409M_2455167F</td>\n",
              "      <td>2322409</td>\n",
              "      <td>2455167.0</td>\n",
              "    </tr>\n",
              "    <tr>\n",
              "      <th>50</th>\n",
              "      <td>South Dakota</td>\n",
              "      <td>843190</td>\n",
              "      <td>3.2396396396396376%</td>\n",
              "      <td>82.50090090090092%</td>\n",
              "      <td>1.4238738738738752%</td>\n",
              "      <td>9.417567567567566%</td>\n",
              "      <td>1.0193693693693688%</td>\n",
              "      <td>0.04189189189189189%</td>\n",
              "      <td>51805.405405</td>\n",
              "      <td>423477M_419713F</td>\n",
              "      <td>423477</td>\n",
              "      <td>419713.0</td>\n",
              "    </tr>\n",
              "    <tr>\n",
              "      <th>51</th>\n",
              "      <td>Tennessee</td>\n",
              "      <td>6499615</td>\n",
              "      <td>4.720026972353339%</td>\n",
              "      <td>73.49008766014822%</td>\n",
              "      <td>18.283816587997297%</td>\n",
              "      <td>0.22663519892110592%</td>\n",
              "      <td>1.4072825354012126%</td>\n",
              "      <td>0.04315576534052599%</td>\n",
              "      <td>47328.083617</td>\n",
              "      <td>3167756M_3331859F</td>\n",
              "      <td>3167756</td>\n",
              "      <td>3331859.0</td>\n",
              "    </tr>\n",
              "    <tr>\n",
              "      <th>52</th>\n",
              "      <td>Texas</td>\n",
              "      <td>26538614</td>\n",
              "      <td>38.04673809068304%</td>\n",
              "      <td>44.687908934379145%</td>\n",
              "      <td>11.65004782858236%</td>\n",
              "      <td>0.26114405969007126%</td>\n",
              "      <td>3.6696958102161825%</td>\n",
              "      <td>0.06881576430074614%</td>\n",
              "      <td>55874.522601</td>\n",
              "      <td>13171316M_13367298F</td>\n",
              "      <td>13171316</td>\n",
              "      <td>13367298.0</td>\n",
              "    </tr>\n",
              "    <tr>\n",
              "      <th>53</th>\n",
              "      <td>Utah</td>\n",
              "      <td>2903379</td>\n",
              "      <td>13.468376068376063%</td>\n",
              "      <td>79.40683760683764%</td>\n",
              "      <td>1.0179487179487194%</td>\n",
              "      <td>1.0813675213675222%</td>\n",
              "      <td>2.196068376068376%</td>\n",
              "      <td>0.8259829059829059%</td>\n",
              "      <td>63488.917808</td>\n",
              "      <td>1459229M_1444150F</td>\n",
              "      <td>1459229</td>\n",
              "      <td>1444150.0</td>\n",
              "    </tr>\n",
              "    <tr>\n",
              "      <th>55</th>\n",
              "      <td>Vermont</td>\n",
              "      <td>626604</td>\n",
              "      <td>1.6092896174863391%</td>\n",
              "      <td>93.98306010928961%</td>\n",
              "      <td>0.9808743169398909%</td>\n",
              "      <td>0.301639344262295%</td>\n",
              "      <td>1.2387978142076501%</td>\n",
              "      <td>0.03060109289617486%</td>\n",
              "      <td>55602.967213</td>\n",
              "      <td>308573M_318031F</td>\n",
              "      <td>308573</td>\n",
              "      <td>318031.0</td>\n",
              "    </tr>\n",
              "    <tr>\n",
              "      <th>56</th>\n",
              "      <td>Virginia</td>\n",
              "      <td>8256630</td>\n",
              "      <td>8.0110164981373%</td>\n",
              "      <td>63.271048430015945%</td>\n",
              "      <td>20.17599787120807%</td>\n",
              "      <td>0.21245343267695582%</td>\n",
              "      <td>5.455242150079845%</td>\n",
              "      <td>0.06471527408195847%</td>\n",
              "      <td>72866.013412</td>\n",
              "      <td>4060948M_4195682F</td>\n",
              "      <td>4060948</td>\n",
              "      <td>4195682.0</td>\n",
              "    </tr>\n",
              "    <tr>\n",
              "      <th>57</th>\n",
              "      <td>Washington</td>\n",
              "      <td>6985464</td>\n",
              "      <td>11.140968858131506%</td>\n",
              "      <td>72.03840830449816%</td>\n",
              "      <td>3.384429065743947%</td>\n",
              "      <td>1.4107266435986163%</td>\n",
              "      <td>7.022006920415224%</td>\n",
              "      <td>0.609896193771627%</td>\n",
              "      <td>64493.767684</td>\n",
              "      <td>3487725M_3497739F</td>\n",
              "      <td>3487725</td>\n",
              "      <td>3497739.0</td>\n",
              "    </tr>\n",
              "    <tr>\n",
              "      <th>58</th>\n",
              "      <td>West Virginia</td>\n",
              "      <td>1851420</td>\n",
              "      <td>1.290909090909089%</td>\n",
              "      <td>92.17623966942146%</td>\n",
              "      <td>3.6628099173553723%</td>\n",
              "      <td>0.15268595041322316%</td>\n",
              "      <td>0.6824380165289253%</td>\n",
              "      <td>0.02644628099173554%</td>\n",
              "      <td>41437.111570</td>\n",
              "      <td>913631M_937789F</td>\n",
              "      <td>913631</td>\n",
              "      <td>937789.0</td>\n",
              "    </tr>\n",
              "    <tr>\n",
              "      <th>59</th>\n",
              "      <td>Wisconsin</td>\n",
              "      <td>5742117</td>\n",
              "      <td>6.683333333333334%</td>\n",
              "      <td>79.86400862068966%</td>\n",
              "      <td>8.195186781609202%</td>\n",
              "      <td>0.9536637931034483%</td>\n",
              "      <td>2.404238505747124%</td>\n",
              "      <td>0.020833333333333332%</td>\n",
              "      <td>53898.889209</td>\n",
              "      <td>2851385M_2890732F</td>\n",
              "      <td>2851385</td>\n",
              "      <td>2890732.0</td>\n",
              "    </tr>\n",
              "  </tbody>\n",
              "</table>\n",
              "</div>"
            ],
            "text/plain": [
              "                   State  TotalPop             Hispanic                White  \\\n",
              "0                Alabama   4830620  3.7516156462584975%     61.878656462585%   \n",
              "1                 Alaska    733375   5.909580838323351%  60.910179640718574%   \n",
              "2                Arizona   6641928  29.565921052631502%  57.120000000000026%   \n",
              "3               Arkansas   2958208   6.215474452554738%   71.13781021897813%   \n",
              "4             California  38421464  37.291874687968054%   40.21578881677474%   \n",
              "5               Colorado   5278906   20.78438003220608%   69.89557165861504%   \n",
              "7            Connecticut   3593222  15.604830917874388%    67.6770531400966%   \n",
              "8               Delaware    926454    8.82476635514019%   64.63271028037383%   \n",
              "9   District of Columbia    647484   9.165921787709499%  33.103910614525134%   \n",
              "10               Florida  19645772    21.3385426653884%   59.08374880153398%   \n",
              "11               Georgia  10006693   8.418242207460397%   54.28630556974962%   \n",
              "13                Hawaii   1406299   9.186708860759486%  25.032278481012657%   \n",
              "14                 Idaho   1616547  11.505369127516781%    83.1362416107383%   \n",
              "15              Illinois  12873761  15.601733547351516%   60.85980738362764%   \n",
              "16               Indiana   6568645   6.536744186046501%   78.43189368770771%   \n",
              "17                  Iowa   3093526    5.30364520048603%   87.71968408262464%   \n",
              "19                Kansas   2892987  11.644342105263148%   75.95828947368425%   \n",
              "20              Kentucky   4397353   3.222993688007212%    85.2307484220019%   \n",
              "21             Louisiana   4625253   4.866489361702128%  54.978546099290796%   \n",
              "22                 Maine   1329100  1.4319088319088318%   93.70740740740736%   \n",
              "23              Maryland   5930538    8.47249820014399%     52.679049676026%   \n",
              "25         Massachusetts   6705586  11.461065573770476%   73.04105191256845%   \n",
              "26              Michigan   9900571   4.634992732558134%   72.38172238372084%   \n",
              "27             Minnesota   5419171   5.152923538230896%   81.42706146926535%   \n",
              "28           Mississippi   2988081   2.842401215805473%   53.28632218844981%   \n",
              "29              Missouri   6045448   4.037247838616718%     77.508069164265%   \n",
              "31               Montana   1014699  3.2688888888888896%   86.41555555555554%   \n",
              "32              Nebraska   1869365   9.203759398496235%   81.13947368421056%   \n",
              "33                Nevada   2798636  27.100883652430046%   53.23932253313698%   \n",
              "34         New Hampshire   1324201  3.3219178082191796%   91.31917808219184%   \n",
              "35            New Jersey   8904413   18.74950049950049%  56.488761238761285%   \n",
              "37            New Mexico   2084117   45.28293172690762%   40.69799196787147%   \n",
              "38              New York  19673174  17.241424747786684%    56.4701050030883%   \n",
              "39        North Carolina   9845333   8.464762782128062%    64.5976508521419%   \n",
              "40          North Dakota    721640   2.832682926829267%   87.44829268292683%   \n",
              "41                  Ohio  11575977  3.6720843250595037%   75.90306018361096%   \n",
              "43              Oklahoma   3849733    10.0799043062201%   66.05942583732046%   \n",
              "44                Oregon   3939233  11.441212121212132%   78.39551515151517%   \n",
              "45          Pennsylvania  12779559   6.128013741411624%   77.38385384134914%   \n",
              "46           Puerto Rico   3583073   98.89357384441935%  0.7736189402480265%   \n",
              "47          Rhode Island   1053661  13.356666666666678%   74.32541666666665%   \n",
              "49        South Carolina   4777576   5.056684981684991%  62.888736263736185%   \n",
              "50          South Dakota    843190  3.2396396396396376%   82.50090090090092%   \n",
              "51             Tennessee   6499615   4.720026972353339%   73.49008766014822%   \n",
              "52                 Texas  26538614   38.04673809068304%  44.687908934379145%   \n",
              "53                  Utah   2903379  13.468376068376063%   79.40683760683764%   \n",
              "55               Vermont    626604  1.6092896174863391%   93.98306010928961%   \n",
              "56              Virginia   8256630     8.0110164981373%  63.271048430015945%   \n",
              "57            Washington   6985464  11.140968858131506%   72.03840830449816%   \n",
              "58         West Virginia   1851420   1.290909090909089%   92.17623966942146%   \n",
              "59             Wisconsin   5742117   6.683333333333334%   79.86400862068966%   \n",
              "\n",
              "                  Black                  Native                 Asian  \\\n",
              "0    31.25297619047618%     0.4532312925170065%   1.0502551020408146%   \n",
              "1   2.8485029940119775%      16.39101796407186%    5.450299401197604%   \n",
              "2   3.8509868421052658%       4.35506578947368%    2.876578947368419%   \n",
              "3   18.968759124087573%     0.5229197080291965%   1.1423357664233578%   \n",
              "4    5.677396405391911%    0.40529206190713685%   13.052234148776776%   \n",
              "5    3.546376811594201%     0.5738325281803548%    2.661996779388082%   \n",
              "7    10.34806763285027%    0.12620772946859898%    4.021980676328502%   \n",
              "8   20.743925233644834%    0.25981308411214965%   3.2686915887850483%   \n",
              "9    51.77653631284915%    0.20055865921787713%   3.3832402234636865%   \n",
              "10  15.165675934803444%     0.2104506232023015%   2.2831735378715257%   \n",
              "11   32.08829841594277%    0.18758303525804798%   3.0976494634644895%   \n",
              "13   2.052848101265823%     0.1449367088607596%    36.59208860759495%   \n",
              "14  0.5667785234899323%      1.468120805369128%    1.135906040268457%   \n",
              "15  17.108410914927717%    0.11842696629213499%    4.475377207062604%   \n",
              "16   11.18697674418606%     0.1940863787375415%   1.5782724252491687%   \n",
              "17  3.2569866342648868%     0.2897934386391251%    1.699392466585662%   \n",
              "19     6.5678947368421%     0.7339473684210529%    2.331052631578946%   \n",
              "20   8.272317403065832%     0.1666366095581602%   1.1298467087466182%   \n",
              "21   36.32624113475175%    0.48430851063829816%    1.669060283687941%   \n",
              "22  1.1344729344729356%     0.7883190883190888%   0.9658119658119669%   \n",
              "23    30.6777537796976%    0.20309575233981278%    5.325413966882652%   \n",
              "25    6.83312841530056%    0.12827868852459007%    5.835655737704914%   \n",
              "26  17.633103197674423%    0.48441133720930313%   2.4231104651162796%   \n",
              "27    5.65982008995502%      1.069040479760119%    4.156071964017996%   \n",
              "28  41.491945288753804%     0.3899696048632216%   0.8764437689969605%   \n",
              "29  14.122118155619594%    0.36332853025936646%   1.6244956772334296%   \n",
              "31  0.4292592592592591%     7.0607407407407425%   0.5703703703703705%   \n",
              "32   4.956203007518794%     0.8644736842105263%   1.8590225563909788%   \n",
              "33   7.739617083946994%     1.0871870397643593%    7.095729013254786%   \n",
              "34  1.2277397260273974%    0.14280821917808229%    2.191438356164382%   \n",
              "35  14.387862137862117%    0.11533466533466513%    8.159990009990018%   \n",
              "37  1.7550200803212852%      9.248594377510045%     1.23433734939759%   \n",
              "38  15.668046119003515%    0.32163887173152117%   7.8971587399629355%   \n",
              "39    21.3951174573929%     1.0854905573468434%    2.317457392906495%   \n",
              "40  1.2843902439024397%      5.651219512195119%   0.9619512195121945%   \n",
              "41  16.207276436586163%    0.16888813328799712%   1.6210812648758952%   \n",
              "43   8.314736842105255%      6.716842105263157%   1.8011483253588516%   \n",
              "44   1.730787878787877%     1.0002424242424257%    3.594909090909088%   \n",
              "45  11.633947532791995%    0.11926920674578385%   2.7977514053716495%   \n",
              "46  0.0925591882750846%  0.0028184892897406984%  0.07519729425028186%   \n",
              "47    5.68291666666667%     0.3462500000000001%   3.2474999999999983%   \n",
              "49   28.75091575091577%     0.2923992673992673%    1.249175824175822%   \n",
              "50  1.4238738738738752%      9.417567567567566%   1.0193693693693688%   \n",
              "51  18.283816587997297%    0.22663519892110592%   1.4072825354012126%   \n",
              "52   11.65004782858236%    0.26114405969007126%   3.6696958102161825%   \n",
              "53  1.0179487179487194%     1.0813675213675222%    2.196068376068376%   \n",
              "55  0.9808743169398909%      0.301639344262295%   1.2387978142076501%   \n",
              "56   20.17599787120807%    0.21245343267695582%    5.455242150079845%   \n",
              "57   3.384429065743947%     1.4107266435986163%    7.022006920415224%   \n",
              "58  3.6628099173553723%    0.15268595041322316%   0.6824380165289253%   \n",
              "59   8.195186781609202%     0.9536637931034483%    2.404238505747124%   \n",
              "\n",
              "                   Pacific        Income            GenderPop       Men  \\\n",
              "0     0.03435374149659865%  43296.358603    2341093M_2489527F   2341093   \n",
              "1      1.0586826347305378%  70354.743902      384160M_349215F    384160   \n",
              "2     0.16763157894736833%  54207.820955    3299088M_3342840F   3299088   \n",
              "3     0.14686131386861315%  41935.633968    1451913M_1506295F   1451913   \n",
              "4     0.35141038442336353%  67264.782303  19087135M_19334329F  19087135   \n",
              "5                      NaN  64657.801787    2648667M_2630239F   2648667   \n",
              "7    0.018599033816425123%  76146.560588    1751607M_1841615F   1751607   \n",
              "8                      NaN  61827.976636      448413M_478041F    448413   \n",
              "9    0.029608938547486034%  75466.363636      306674M_340810F    306674   \n",
              "10    0.05151006711409391%  50690.194987   9600009M_10045763F   9600009   \n",
              "11   0.046601941747572824%  50811.082051    4883331M_5123362F   4883331   \n",
              "13      8.758860759493672%  73264.426282      709871M_696428F    709871   \n",
              "14     0.1271812080536914%  48017.315436      810464M_806083F    810464   \n",
              "15    0.02003210272873195%  59587.048875    6316899M_6556862F   6316899   \n",
              "16    0.03262458471760798%  48616.227848    3235263M_3333382F   3235263   \n",
              "17   0.055164034021871235%  53017.753041    1534595M_1558931F   1534595   \n",
              "19                     NaN  53885.612648    1439862M_1453125F   1439862   \n",
              "20   0.046438232642019836%  45285.802536    2164208M_2233145F   2164208   \n",
              "21   0.039184397163120555%  44957.993761    2261156M_2364097F   2261156   \n",
              "22    0.01566951566951567%  49181.974359      650081M_679019F    650081   \n",
              "23    0.03628509719222463%  78765.400725           2872643M_F   2872643   \n",
              "25     0.0198087431693989%  72838.936726    3249650M_3455936F   3249650   \n",
              "26    0.01954941860465116%  51201.830037    4861973M_5038598F   4861973   \n",
              "27   0.032908545727136446%  62820.833959    2692166M_2727005F   2692166   \n",
              "28   0.015045592705167175%  38909.919207    1451723M_1536358F   1451723   \n",
              "29    0.10165706051873193%  49763.987726    2964003M_3081445F   2964003   \n",
              "31    0.07222222222222222%  47645.682836            510163M_F    510163   \n",
              "32    0.05714285714285715%  55916.469697      929606M_939759F    929606   \n",
              "33     0.5745213549337267%  55526.525074    1407735M_1390901F   1407735   \n",
              "34   0.016095890410958904%  68728.859589      653484M_670717F    653484   \n",
              "35   0.031318681318681325%  76581.083417    4343027M_4561386F   4343027   \n",
              "37    0.04277108433734938%  47329.967871    1032414M_1051703F   1032414   \n",
              "38   0.023450689726168417%  64290.749113   9541801M_10131373F   9541801   \n",
              "39    0.05232611699677568%  49937.464137    4795408M_5049925F   4795408   \n",
              "40                     NaN  58188.112195      367963M_353677F    367963   \n",
              "41   0.022645358721523304%  49655.248466    5662893M_5913084F   5662893   \n",
              "43    0.10622009569377985%  48100.854267    1906944M_1942789F   1906944   \n",
              "44     0.3453333333333332%  54271.901818    1948453M_1990780F   1948453   \n",
              "45   0.019394128669581522%  56170.464510    6245344M_6534215F   6245344   \n",
              "46  0.0012401352874859078%  20720.538286    1713860M_1869213F   1713860   \n",
              "47   0.035833333333333335%  59125.270833      510388M_543273F    510388   \n",
              "49   0.046978021978021964%  46296.807763    2322409M_2455167F   2322409   \n",
              "50    0.04189189189189189%  51805.405405      423477M_419713F    423477   \n",
              "51    0.04315576534052599%  47328.083617    3167756M_3331859F   3167756   \n",
              "52    0.06881576430074614%  55874.522601  13171316M_13367298F  13171316   \n",
              "53     0.8259829059829059%  63488.917808    1459229M_1444150F   1459229   \n",
              "55    0.03060109289617486%  55602.967213      308573M_318031F    308573   \n",
              "56    0.06471527408195847%  72866.013412    4060948M_4195682F   4060948   \n",
              "57      0.609896193771627%  64493.767684    3487725M_3497739F   3487725   \n",
              "58    0.02644628099173554%  41437.111570      913631M_937789F    913631   \n",
              "59   0.020833333333333332%  53898.889209    2851385M_2890732F   2851385   \n",
              "\n",
              "         Women  \n",
              "0    2489527.0  \n",
              "1     349215.0  \n",
              "2    3342840.0  \n",
              "3    1506295.0  \n",
              "4   19334329.0  \n",
              "5    2630239.0  \n",
              "7    1841615.0  \n",
              "8     478041.0  \n",
              "9     340810.0  \n",
              "10  10045763.0  \n",
              "11   5123362.0  \n",
              "13    696428.0  \n",
              "14    806083.0  \n",
              "15   6556862.0  \n",
              "16   3333382.0  \n",
              "17   1558931.0  \n",
              "19   1453125.0  \n",
              "20   2233145.0  \n",
              "21   2364097.0  \n",
              "22    679019.0  \n",
              "23   3057895.0  \n",
              "25   3455936.0  \n",
              "26   5038598.0  \n",
              "27   2727005.0  \n",
              "28   1536358.0  \n",
              "29   3081445.0  \n",
              "31    504536.0  \n",
              "32    939759.0  \n",
              "33   1390901.0  \n",
              "34    670717.0  \n",
              "35   4561386.0  \n",
              "37   1051703.0  \n",
              "38  10131373.0  \n",
              "39   5049925.0  \n",
              "40    353677.0  \n",
              "41   5913084.0  \n",
              "43   1942789.0  \n",
              "44   1990780.0  \n",
              "45   6534215.0  \n",
              "46   1869213.0  \n",
              "47    543273.0  \n",
              "49   2455167.0  \n",
              "50    419713.0  \n",
              "51   3331859.0  \n",
              "52  13367298.0  \n",
              "53   1444150.0  \n",
              "55    318031.0  \n",
              "56   4195682.0  \n",
              "57   3497739.0  \n",
              "58    937789.0  \n",
              "59   2890732.0  "
            ]
          },
          "metadata": {
            "tags": []
          },
          "execution_count": 27
        }
      ]
    },
    {
      "cell_type": "code",
      "metadata": {
        "id": "jkNDw-l5v3Pr",
        "outputId": "cc346459-c108-44d9-dc5a-25eb8222677a"
      },
      "source": [
        "# checking again for duplicated Counts\n",
        "clean_us_census.duplicated().value_counts()"
      ],
      "execution_count": null,
      "outputs": [
        {
          "output_type": "execute_result",
          "data": {
            "text/plain": [
              "False    51\n",
              "dtype: int64"
            ]
          },
          "metadata": {
            "tags": []
          },
          "execution_count": 28
        }
      ]
    },
    {
      "cell_type": "markdown",
      "metadata": {
        "id": "aLOTRU-Tv3Pv"
      },
      "source": [
        "12.\n",
        "Make the scatterplot again. Now, it should be perfect! Your job is secure, for now."
      ]
    },
    {
      "cell_type": "code",
      "metadata": {
        "id": "oeNGfjaMv3Px",
        "outputId": "00103f8a-e612-4c30-af50-6a1215b671ac"
      },
      "source": [
        "# Plotting women's income again with clean data\n",
        "\n",
        "plt.scatter(clean_us_census.Women, clean_us_census.Income)\n",
        "plt.xlabel('Women')\n",
        "plt.ylabel('Income')\n",
        "plt.show() \n",
        "plt.clf()"
      ],
      "execution_count": null,
      "outputs": [
        {
          "output_type": "display_data",
          "data": {
            "image/png": "[encoded data removed]",
            "text/plain": [
              "<Figure size 432x288 with 1 Axes>"
            ]
          },
          "metadata": {
            "tags": [],
            "needs_background": "light"
          }
        },
        {
          "output_type": "display_data",
          "data": {
            "text/plain": [
              "<Figure size 432x288 with 0 Axes>"
            ]
          },
          "metadata": {
            "tags": []
          }
        }
      ]
    },
    {
      "cell_type": "markdown",
      "metadata": {
        "id": "Ai5tMRtZv3P0"
      },
      "source": [
        "Histograms of Races\n",
        "13.\n",
        "Now, your boss wants you to make a bunch of histograms out of the race data that you have. Look at the .columns again to see what the race categories are."
      ]
    },
    {
      "cell_type": "code",
      "metadata": {
        "id": "R3KeD0TNv3P3",
        "outputId": "8c6b33dd-78e4-4795-c35e-460628b4e110"
      },
      "source": [
        "clean_us_census.columns"
      ],
      "execution_count": null,
      "outputs": [
        {
          "output_type": "execute_result",
          "data": {
            "text/plain": [
              "Index(['State', 'TotalPop', 'Hispanic', 'White', 'Black', 'Native', 'Asian',\n",
              "       'Pacific', 'Income', 'GenderPop', 'Men', 'Women'],\n",
              "      dtype='object')"
            ]
          },
          "metadata": {
            "tags": []
          },
          "execution_count": 30
        }
      ]
    },
    {
      "cell_type": "markdown",
      "metadata": {
        "id": "n0aj2dHxv3P5"
      },
      "source": [
        "14.\n",
        "Try to make a histogram for each one!\n",
        "\n",
        "You will have to get the columns into numerical format, and those percentage signs will have to go.\n",
        "\n",
        "Don’t forget to fill the nan values with something that makes sense! You probably dropped the duplicate rows when making your last graph, but it couldn’t hurt to check for duplicates again."
      ]
    },
    {
      "cell_type": "code",
      "metadata": {
        "id": "3m14lDKPv3P6",
        "outputId": "eb31814d-1412-49c7-83e9-466b15c9f19f"
      },
      "source": [
        "us_census.head()"
      ],
      "execution_count": null,
      "outputs": [
        {
          "output_type": "execute_result",
          "data": {
            "text/html": [
              "<div>\n",
              "<style scoped>\n",
              "    .dataframe tbody tr th:only-of-type {\n",
              "        vertical-align: middle;\n",
              "    }\n",
              "\n",
              "    .dataframe tbody tr th {\n",
              "        vertical-align: top;\n",
              "    }\n",
              "\n",
              "    .dataframe thead th {\n",
              "        text-align: right;\n",
              "    }\n",
              "</style>\n",
              "<table border=\"1\" class=\"dataframe\">\n",
              "  <thead>\n",
              "    <tr style=\"text-align: right;\">\n",
              "      <th></th>\n",
              "      <th>State</th>\n",
              "      <th>TotalPop</th>\n",
              "      <th>Hispanic</th>\n",
              "      <th>White</th>\n",
              "      <th>Black</th>\n",
              "      <th>Native</th>\n",
              "      <th>Asian</th>\n",
              "      <th>Pacific</th>\n",
              "      <th>Income</th>\n",
              "      <th>GenderPop</th>\n",
              "      <th>Men</th>\n",
              "      <th>Women</th>\n",
              "    </tr>\n",
              "  </thead>\n",
              "  <tbody>\n",
              "    <tr>\n",
              "      <th>0</th>\n",
              "      <td>Alabama</td>\n",
              "      <td>4830620</td>\n",
              "      <td>3.7516156462584975%</td>\n",
              "      <td>61.878656462585%</td>\n",
              "      <td>31.25297619047618%</td>\n",
              "      <td>0.4532312925170065%</td>\n",
              "      <td>1.0502551020408146%</td>\n",
              "      <td>0.03435374149659865%</td>\n",
              "      <td>43296.358603</td>\n",
              "      <td>2341093M_2489527F</td>\n",
              "      <td>2341093</td>\n",
              "      <td>2489527.0</td>\n",
              "    </tr>\n",
              "    <tr>\n",
              "      <th>1</th>\n",
              "      <td>Alaska</td>\n",
              "      <td>733375</td>\n",
              "      <td>5.909580838323351%</td>\n",
              "      <td>60.910179640718574%</td>\n",
              "      <td>2.8485029940119775%</td>\n",
              "      <td>16.39101796407186%</td>\n",
              "      <td>5.450299401197604%</td>\n",
              "      <td>1.0586826347305378%</td>\n",
              "      <td>70354.743902</td>\n",
              "      <td>384160M_349215F</td>\n",
              "      <td>384160</td>\n",
              "      <td>349215.0</td>\n",
              "    </tr>\n",
              "    <tr>\n",
              "      <th>2</th>\n",
              "      <td>Arizona</td>\n",
              "      <td>6641928</td>\n",
              "      <td>29.565921052631502%</td>\n",
              "      <td>57.120000000000026%</td>\n",
              "      <td>3.8509868421052658%</td>\n",
              "      <td>4.35506578947368%</td>\n",
              "      <td>2.876578947368419%</td>\n",
              "      <td>0.16763157894736833%</td>\n",
              "      <td>54207.820955</td>\n",
              "      <td>3299088M_3342840F</td>\n",
              "      <td>3299088</td>\n",
              "      <td>3342840.0</td>\n",
              "    </tr>\n",
              "    <tr>\n",
              "      <th>3</th>\n",
              "      <td>Arkansas</td>\n",
              "      <td>2958208</td>\n",
              "      <td>6.215474452554738%</td>\n",
              "      <td>71.13781021897813%</td>\n",
              "      <td>18.968759124087573%</td>\n",
              "      <td>0.5229197080291965%</td>\n",
              "      <td>1.1423357664233578%</td>\n",
              "      <td>0.14686131386861315%</td>\n",
              "      <td>41935.633968</td>\n",
              "      <td>1451913M_1506295F</td>\n",
              "      <td>1451913</td>\n",
              "      <td>1506295.0</td>\n",
              "    </tr>\n",
              "    <tr>\n",
              "      <th>4</th>\n",
              "      <td>California</td>\n",
              "      <td>38421464</td>\n",
              "      <td>37.291874687968054%</td>\n",
              "      <td>40.21578881677474%</td>\n",
              "      <td>5.677396405391911%</td>\n",
              "      <td>0.40529206190713685%</td>\n",
              "      <td>13.052234148776776%</td>\n",
              "      <td>0.35141038442336353%</td>\n",
              "      <td>67264.782303</td>\n",
              "      <td>19087135M_19334329F</td>\n",
              "      <td>19087135</td>\n",
              "      <td>19334329.0</td>\n",
              "    </tr>\n",
              "  </tbody>\n",
              "</table>\n",
              "</div>"
            ],
            "text/plain": [
              "        State  TotalPop             Hispanic                White  \\\n",
              "0     Alabama   4830620  3.7516156462584975%     61.878656462585%   \n",
              "1      Alaska    733375   5.909580838323351%  60.910179640718574%   \n",
              "2     Arizona   6641928  29.565921052631502%  57.120000000000026%   \n",
              "3    Arkansas   2958208   6.215474452554738%   71.13781021897813%   \n",
              "4  California  38421464  37.291874687968054%   40.21578881677474%   \n",
              "\n",
              "                 Black                Native                Asian  \\\n",
              "0   31.25297619047618%   0.4532312925170065%  1.0502551020408146%   \n",
              "1  2.8485029940119775%    16.39101796407186%   5.450299401197604%   \n",
              "2  3.8509868421052658%     4.35506578947368%   2.876578947368419%   \n",
              "3  18.968759124087573%   0.5229197080291965%  1.1423357664233578%   \n",
              "4   5.677396405391911%  0.40529206190713685%  13.052234148776776%   \n",
              "\n",
              "                Pacific        Income            GenderPop       Men  \\\n",
              "0  0.03435374149659865%  43296.358603    2341093M_2489527F   2341093   \n",
              "1   1.0586826347305378%  70354.743902      384160M_349215F    384160   \n",
              "2  0.16763157894736833%  54207.820955    3299088M_3342840F   3299088   \n",
              "3  0.14686131386861315%  41935.633968    1451913M_1506295F   1451913   \n",
              "4  0.35141038442336353%  67264.782303  19087135M_19334329F  19087135   \n",
              "\n",
              "        Women  \n",
              "0   2489527.0  \n",
              "1    349215.0  \n",
              "2   3342840.0  \n",
              "3   1506295.0  \n",
              "4  19334329.0  "
            ]
          },
          "metadata": {
            "tags": []
          },
          "execution_count": 31
        }
      ]
    },
    {
      "cell_type": "code",
      "metadata": {
        "scrolled": true,
        "id": "zTfyJSi6v3P9",
        "outputId": "53d70be9-95e0-423e-ed96-b2d1a0d3b91d"
      },
      "source": [
        "# Removing the '%' sign from the data\n",
        "us_census.Hispanic = us_census.Hispanic.replace('\\%','',regex=True)\n",
        "us_census.White = us_census.White.replace('\\%','',regex=True)\n",
        "us_census.Black = us_census.Black.replace('\\%','',regex=True)\n",
        "us_census.Native = us_census.Native.replace('\\%','',regex=True)\n",
        "us_census.Asian = us_census.Asian.replace('\\%','',regex=True)\n",
        "us_census.Pacific = us_census.Pacific.replace('\\%','',regex=True)\n",
        "\n",
        "us_census.head()"
      ],
      "execution_count": null,
      "outputs": [
        {
          "output_type": "execute_result",
          "data": {
            "text/html": [
              "<div>\n",
              "<style scoped>\n",
              "    .dataframe tbody tr th:only-of-type {\n",
              "        vertical-align: middle;\n",
              "    }\n",
              "\n",
              "    .dataframe tbody tr th {\n",
              "        vertical-align: top;\n",
              "    }\n",
              "\n",
              "    .dataframe thead th {\n",
              "        text-align: right;\n",
              "    }\n",
              "</style>\n",
              "<table border=\"1\" class=\"dataframe\">\n",
              "  <thead>\n",
              "    <tr style=\"text-align: right;\">\n",
              "      <th></th>\n",
              "      <th>State</th>\n",
              "      <th>TotalPop</th>\n",
              "      <th>Hispanic</th>\n",
              "      <th>White</th>\n",
              "      <th>Black</th>\n",
              "      <th>Native</th>\n",
              "      <th>Asian</th>\n",
              "      <th>Pacific</th>\n",
              "      <th>Income</th>\n",
              "      <th>GenderPop</th>\n",
              "      <th>Men</th>\n",
              "      <th>Women</th>\n",
              "    </tr>\n",
              "  </thead>\n",
              "  <tbody>\n",
              "    <tr>\n",
              "      <th>0</th>\n",
              "      <td>Alabama</td>\n",
              "      <td>4830620</td>\n",
              "      <td>3.7516156462584975</td>\n",
              "      <td>61.878656462585</td>\n",
              "      <td>31.25297619047618</td>\n",
              "      <td>0.4532312925170065</td>\n",
              "      <td>1.0502551020408146</td>\n",
              "      <td>0.03435374149659865</td>\n",
              "      <td>43296.358603</td>\n",
              "      <td>2341093M_2489527F</td>\n",
              "      <td>2341093</td>\n",
              "      <td>2489527.0</td>\n",
              "    </tr>\n",
              "    <tr>\n",
              "      <th>1</th>\n",
              "      <td>Alaska</td>\n",
              "      <td>733375</td>\n",
              "      <td>5.909580838323351</td>\n",
              "      <td>60.910179640718574</td>\n",
              "      <td>2.8485029940119775</td>\n",
              "      <td>16.39101796407186</td>\n",
              "      <td>5.450299401197604</td>\n",
              "      <td>1.0586826347305378</td>\n",
              "      <td>70354.743902</td>\n",
              "      <td>384160M_349215F</td>\n",
              "      <td>384160</td>\n",
              "      <td>349215.0</td>\n",
              "    </tr>\n",
              "    <tr>\n",
              "      <th>2</th>\n",
              "      <td>Arizona</td>\n",
              "      <td>6641928</td>\n",
              "      <td>29.565921052631502</td>\n",
              "      <td>57.120000000000026</td>\n",
              "      <td>3.8509868421052658</td>\n",
              "      <td>4.35506578947368</td>\n",
              "      <td>2.876578947368419</td>\n",
              "      <td>0.16763157894736833</td>\n",
              "      <td>54207.820955</td>\n",
              "      <td>3299088M_3342840F</td>\n",
              "      <td>3299088</td>\n",
              "      <td>3342840.0</td>\n",
              "    </tr>\n",
              "    <tr>\n",
              "      <th>3</th>\n",
              "      <td>Arkansas</td>\n",
              "      <td>2958208</td>\n",
              "      <td>6.215474452554738</td>\n",
              "      <td>71.13781021897813</td>\n",
              "      <td>18.968759124087573</td>\n",
              "      <td>0.5229197080291965</td>\n",
              "      <td>1.1423357664233578</td>\n",
              "      <td>0.14686131386861315</td>\n",
              "      <td>41935.633968</td>\n",
              "      <td>1451913M_1506295F</td>\n",
              "      <td>1451913</td>\n",
              "      <td>1506295.0</td>\n",
              "    </tr>\n",
              "    <tr>\n",
              "      <th>4</th>\n",
              "      <td>California</td>\n",
              "      <td>38421464</td>\n",
              "      <td>37.291874687968054</td>\n",
              "      <td>40.21578881677474</td>\n",
              "      <td>5.677396405391911</td>\n",
              "      <td>0.40529206190713685</td>\n",
              "      <td>13.052234148776776</td>\n",
              "      <td>0.35141038442336353</td>\n",
              "      <td>67264.782303</td>\n",
              "      <td>19087135M_19334329F</td>\n",
              "      <td>19087135</td>\n",
              "      <td>19334329.0</td>\n",
              "    </tr>\n",
              "  </tbody>\n",
              "</table>\n",
              "</div>"
            ],
            "text/plain": [
              "        State  TotalPop            Hispanic               White  \\\n",
              "0     Alabama   4830620  3.7516156462584975     61.878656462585   \n",
              "1      Alaska    733375   5.909580838323351  60.910179640718574   \n",
              "2     Arizona   6641928  29.565921052631502  57.120000000000026   \n",
              "3    Arkansas   2958208   6.215474452554738   71.13781021897813   \n",
              "4  California  38421464  37.291874687968054   40.21578881677474   \n",
              "\n",
              "                Black               Native               Asian  \\\n",
              "0   31.25297619047618   0.4532312925170065  1.0502551020408146   \n",
              "1  2.8485029940119775    16.39101796407186   5.450299401197604   \n",
              "2  3.8509868421052658     4.35506578947368   2.876578947368419   \n",
              "3  18.968759124087573   0.5229197080291965  1.1423357664233578   \n",
              "4   5.677396405391911  0.40529206190713685  13.052234148776776   \n",
              "\n",
              "               Pacific        Income            GenderPop       Men  \\\n",
              "0  0.03435374149659865  43296.358603    2341093M_2489527F   2341093   \n",
              "1   1.0586826347305378  70354.743902      384160M_349215F    384160   \n",
              "2  0.16763157894736833  54207.820955    3299088M_3342840F   3299088   \n",
              "3  0.14686131386861315  41935.633968    1451913M_1506295F   1451913   \n",
              "4  0.35141038442336353  67264.782303  19087135M_19334329F  19087135   \n",
              "\n",
              "        Women  \n",
              "0   2489527.0  \n",
              "1    349215.0  \n",
              "2   3342840.0  \n",
              "3   1506295.0  \n",
              "4  19334329.0  "
            ]
          },
          "metadata": {
            "tags": []
          },
          "execution_count": 32
        }
      ]
    },
    {
      "cell_type": "code",
      "metadata": {
        "id": "4u-_-OsTv3QA",
        "outputId": "ec5ab689-149d-4d73-b89a-7c7cbaef6826"
      },
      "source": [
        "# Now converting all these to numeric type\n",
        "\n",
        "us_census.Hispanic = pd.to_numeric(us_census.Hispanic)\n",
        "us_census.White = pd.to_numeric(us_census.White)\n",
        "us_census.Black = pd.to_numeric(us_census.Black)\n",
        "us_census.Native = pd.to_numeric(us_census.Native)\n",
        "us_census.Asian = pd.to_numeric(us_census.Asian)\n",
        "us_census.Pacific = pd.to_numeric(us_census.Pacific)\n",
        "\n",
        "us_census.dtypes"
      ],
      "execution_count": null,
      "outputs": [
        {
          "output_type": "execute_result",
          "data": {
            "text/plain": [
              "State         object\n",
              "TotalPop       int64\n",
              "Hispanic     float64\n",
              "White        float64\n",
              "Black        float64\n",
              "Native       float64\n",
              "Asian        float64\n",
              "Pacific      float64\n",
              "Income       float64\n",
              "GenderPop     object\n",
              "Men            int64\n",
              "Women        float64\n",
              "dtype: object"
            ]
          },
          "metadata": {
            "tags": []
          },
          "execution_count": 33
        }
      ]
    },
    {
      "cell_type": "code",
      "metadata": {
        "id": "-ozP1MFbv3QC",
        "outputId": "6602ae1e-1834-4bcf-d885-344cdf559666"
      },
      "source": [
        "print(us_census.Hispanic.isnull().value_counts())\n",
        "print(us_census.White.isnull().value_counts())\n",
        "print(us_census.Black.isnull().value_counts())\n",
        "print(us_census.Native.isnull().value_counts())\n",
        "print(us_census.Asian.isnull().value_counts())\n",
        "print(us_census.Pacific.isnull().value_counts())"
      ],
      "execution_count": null,
      "outputs": [
        {
          "output_type": "stream",
          "text": [
            "False    60\n",
            "Name: Hispanic, dtype: int64\n",
            "False    60\n",
            "Name: White, dtype: int64\n",
            "False    60\n",
            "Name: Black, dtype: int64\n",
            "False    60\n",
            "Name: Native, dtype: int64\n",
            "False    60\n",
            "Name: Asian, dtype: int64\n",
            "False    55\n",
            "True      5\n",
            "Name: Pacific, dtype: int64\n"
          ],
          "name": "stdout"
        }
      ]
    },
    {
      "cell_type": "code",
      "metadata": {
        "id": "SfLgib37v3QF",
        "outputId": "eb62b886-7054-4d66-e418-71fcfbfd99f3"
      },
      "source": [
        "# So, here we can see that only Pacific column has 5 NaN values.\n",
        "\n",
        "us_census.Pacific"
      ],
      "execution_count": null,
      "outputs": [
        {
          "output_type": "execute_result",
          "data": {
            "text/plain": [
              "0     0.034354\n",
              "1     1.058683\n",
              "2     0.167632\n",
              "3     0.146861\n",
              "4     0.351410\n",
              "5          NaN\n",
              "6          NaN\n",
              "7     0.018599\n",
              "8          NaN\n",
              "9     0.029609\n",
              "10    0.051510\n",
              "11    0.046602\n",
              "12    0.046602\n",
              "13    8.758861\n",
              "14    0.127181\n",
              "15    0.020032\n",
              "16    0.032625\n",
              "17    0.055164\n",
              "18    0.055164\n",
              "19         NaN\n",
              "20    0.046438\n",
              "21    0.039184\n",
              "22    0.015670\n",
              "23    0.036285\n",
              "24    0.036285\n",
              "25    0.019809\n",
              "26    0.019549\n",
              "27    0.032909\n",
              "28    0.015046\n",
              "29    0.101657\n",
              "30    0.101657\n",
              "31    0.072222\n",
              "32    0.057143\n",
              "33    0.574521\n",
              "34    0.016096\n",
              "35    0.031319\n",
              "36    0.031319\n",
              "37    0.042771\n",
              "38    0.023451\n",
              "39    0.052326\n",
              "40         NaN\n",
              "41    0.022645\n",
              "42    0.022645\n",
              "43    0.106220\n",
              "44    0.345333\n",
              "45    0.019394\n",
              "46    0.001240\n",
              "47    0.035833\n",
              "48    0.035833\n",
              "49    0.046978\n",
              "50    0.041892\n",
              "51    0.043156\n",
              "52    0.068816\n",
              "53    0.825983\n",
              "54    0.825983\n",
              "55    0.030601\n",
              "56    0.064715\n",
              "57    0.609896\n",
              "58    0.026446\n",
              "59    0.020833\n",
              "Name: Pacific, dtype: float64"
            ]
          },
          "metadata": {
            "tags": []
          },
          "execution_count": 38
        }
      ]
    },
    {
      "cell_type": "code",
      "metadata": {
        "id": "Nf4HxBA5v3QH"
      },
      "source": [
        "# To tackle these NaN values, we need to fill with mean of the column\n",
        "nan_Pacific_mean = us_census.Pacific.mean()"
      ],
      "execution_count": null,
      "outputs": []
    },
    {
      "cell_type": "code",
      "metadata": {
        "id": "EitlkkbLv3QJ",
        "outputId": "14e3e367-22f3-4cd2-8802-7ea0f8596b3f"
      },
      "source": [
        "nan_Pacific_mean"
      ],
      "execution_count": null,
      "outputs": [
        {
          "output_type": "execute_result",
          "data": {
            "text/plain": [
              "0.28292707539332995"
            ]
          },
          "metadata": {
            "tags": []
          },
          "execution_count": 40
        }
      ]
    },
    {
      "cell_type": "code",
      "metadata": {
        "scrolled": true,
        "id": "z4k5v0v2v3QP",
        "outputId": "7df69dc6-58ae-4d7f-abc7-baa05163cfdd"
      },
      "source": [
        "us_census.Pacific = us_census.Pacific.fillna(value=nan_Pacific_mean)\n",
        "us_census.Pacific"
      ],
      "execution_count": null,
      "outputs": [
        {
          "output_type": "execute_result",
          "data": {
            "text/plain": [
              "0     0.034354\n",
              "1     1.058683\n",
              "2     0.167632\n",
              "3     0.146861\n",
              "4     0.351410\n",
              "5     0.282927\n",
              "6     0.282927\n",
              "7     0.018599\n",
              "8     0.282927\n",
              "9     0.029609\n",
              "10    0.051510\n",
              "11    0.046602\n",
              "12    0.046602\n",
              "13    8.758861\n",
              "14    0.127181\n",
              "15    0.020032\n",
              "16    0.032625\n",
              "17    0.055164\n",
              "18    0.055164\n",
              "19    0.282927\n",
              "20    0.046438\n",
              "21    0.039184\n",
              "22    0.015670\n",
              "23    0.036285\n",
              "24    0.036285\n",
              "25    0.019809\n",
              "26    0.019549\n",
              "27    0.032909\n",
              "28    0.015046\n",
              "29    0.101657\n",
              "30    0.101657\n",
              "31    0.072222\n",
              "32    0.057143\n",
              "33    0.574521\n",
              "34    0.016096\n",
              "35    0.031319\n",
              "36    0.031319\n",
              "37    0.042771\n",
              "38    0.023451\n",
              "39    0.052326\n",
              "40    0.282927\n",
              "41    0.022645\n",
              "42    0.022645\n",
              "43    0.106220\n",
              "44    0.345333\n",
              "45    0.019394\n",
              "46    0.001240\n",
              "47    0.035833\n",
              "48    0.035833\n",
              "49    0.046978\n",
              "50    0.041892\n",
              "51    0.043156\n",
              "52    0.068816\n",
              "53    0.825983\n",
              "54    0.825983\n",
              "55    0.030601\n",
              "56    0.064715\n",
              "57    0.609896\n",
              "58    0.026446\n",
              "59    0.020833\n",
              "Name: Pacific, dtype: float64"
            ]
          },
          "metadata": {
            "tags": []
          },
          "execution_count": 42
        }
      ]
    },
    {
      "cell_type": "code",
      "metadata": {
        "scrolled": true,
        "id": "kNanOGfpv3QS",
        "outputId": "e456a809-be93-4f4f-bfdd-7a05579eca90"
      },
      "source": [
        "us_census.head()"
      ],
      "execution_count": null,
      "outputs": [
        {
          "output_type": "execute_result",
          "data": {
            "text/html": [
              "<div>\n",
              "<style scoped>\n",
              "    .dataframe tbody tr th:only-of-type {\n",
              "        vertical-align: middle;\n",
              "    }\n",
              "\n",
              "    .dataframe tbody tr th {\n",
              "        vertical-align: top;\n",
              "    }\n",
              "\n",
              "    .dataframe thead th {\n",
              "        text-align: right;\n",
              "    }\n",
              "</style>\n",
              "<table border=\"1\" class=\"dataframe\">\n",
              "  <thead>\n",
              "    <tr style=\"text-align: right;\">\n",
              "      <th></th>\n",
              "      <th>State</th>\n",
              "      <th>TotalPop</th>\n",
              "      <th>Hispanic</th>\n",
              "      <th>White</th>\n",
              "      <th>Black</th>\n",
              "      <th>Native</th>\n",
              "      <th>Asian</th>\n",
              "      <th>Pacific</th>\n",
              "      <th>Income</th>\n",
              "      <th>GenderPop</th>\n",
              "      <th>Men</th>\n",
              "      <th>Women</th>\n",
              "    </tr>\n",
              "  </thead>\n",
              "  <tbody>\n",
              "    <tr>\n",
              "      <th>0</th>\n",
              "      <td>Alabama</td>\n",
              "      <td>4830620</td>\n",
              "      <td>3.751616</td>\n",
              "      <td>61.878656</td>\n",
              "      <td>31.252976</td>\n",
              "      <td>0.453231</td>\n",
              "      <td>1.050255</td>\n",
              "      <td>0.034354</td>\n",
              "      <td>43296.358603</td>\n",
              "      <td>2341093M_2489527F</td>\n",
              "      <td>2341093</td>\n",
              "      <td>2489527.0</td>\n",
              "    </tr>\n",
              "    <tr>\n",
              "      <th>1</th>\n",
              "      <td>Alaska</td>\n",
              "      <td>733375</td>\n",
              "      <td>5.909581</td>\n",
              "      <td>60.910180</td>\n",
              "      <td>2.848503</td>\n",
              "      <td>16.391018</td>\n",
              "      <td>5.450299</td>\n",
              "      <td>1.058683</td>\n",
              "      <td>70354.743902</td>\n",
              "      <td>384160M_349215F</td>\n",
              "      <td>384160</td>\n",
              "      <td>349215.0</td>\n",
              "    </tr>\n",
              "    <tr>\n",
              "      <th>2</th>\n",
              "      <td>Arizona</td>\n",
              "      <td>6641928</td>\n",
              "      <td>29.565921</td>\n",
              "      <td>57.120000</td>\n",
              "      <td>3.850987</td>\n",
              "      <td>4.355066</td>\n",
              "      <td>2.876579</td>\n",
              "      <td>0.167632</td>\n",
              "      <td>54207.820955</td>\n",
              "      <td>3299088M_3342840F</td>\n",
              "      <td>3299088</td>\n",
              "      <td>3342840.0</td>\n",
              "    </tr>\n",
              "    <tr>\n",
              "      <th>3</th>\n",
              "      <td>Arkansas</td>\n",
              "      <td>2958208</td>\n",
              "      <td>6.215474</td>\n",
              "      <td>71.137810</td>\n",
              "      <td>18.968759</td>\n",
              "      <td>0.522920</td>\n",
              "      <td>1.142336</td>\n",
              "      <td>0.146861</td>\n",
              "      <td>41935.633968</td>\n",
              "      <td>1451913M_1506295F</td>\n",
              "      <td>1451913</td>\n",
              "      <td>1506295.0</td>\n",
              "    </tr>\n",
              "    <tr>\n",
              "      <th>4</th>\n",
              "      <td>California</td>\n",
              "      <td>38421464</td>\n",
              "      <td>37.291875</td>\n",
              "      <td>40.215789</td>\n",
              "      <td>5.677396</td>\n",
              "      <td>0.405292</td>\n",
              "      <td>13.052234</td>\n",
              "      <td>0.351410</td>\n",
              "      <td>67264.782303</td>\n",
              "      <td>19087135M_19334329F</td>\n",
              "      <td>19087135</td>\n",
              "      <td>19334329.0</td>\n",
              "    </tr>\n",
              "  </tbody>\n",
              "</table>\n",
              "</div>"
            ],
            "text/plain": [
              "        State  TotalPop   Hispanic      White      Black     Native  \\\n",
              "0     Alabama   4830620   3.751616  61.878656  31.252976   0.453231   \n",
              "1      Alaska    733375   5.909581  60.910180   2.848503  16.391018   \n",
              "2     Arizona   6641928  29.565921  57.120000   3.850987   4.355066   \n",
              "3    Arkansas   2958208   6.215474  71.137810  18.968759   0.522920   \n",
              "4  California  38421464  37.291875  40.215789   5.677396   0.405292   \n",
              "\n",
              "       Asian   Pacific        Income            GenderPop       Men  \\\n",
              "0   1.050255  0.034354  43296.358603    2341093M_2489527F   2341093   \n",
              "1   5.450299  1.058683  70354.743902      384160M_349215F    384160   \n",
              "2   2.876579  0.167632  54207.820955    3299088M_3342840F   3299088   \n",
              "3   1.142336  0.146861  41935.633968    1451913M_1506295F   1451913   \n",
              "4  13.052234  0.351410  67264.782303  19087135M_19334329F  19087135   \n",
              "\n",
              "        Women  \n",
              "0   2489527.0  \n",
              "1    349215.0  \n",
              "2   3342840.0  \n",
              "3   1506295.0  \n",
              "4  19334329.0  "
            ]
          },
          "metadata": {
            "tags": []
          },
          "execution_count": 43
        }
      ]
    },
    {
      "cell_type": "code",
      "metadata": {
        "id": "IM9PzcBov3QU",
        "outputId": "7208aec8-6e82-4c71-d58d-484d70fef666"
      },
      "source": [
        "plt.hist(us_census.Hispanic)\n",
        "plt.xlabel('Percentage')\n",
        "plt.ylabel('Frequency of Occurance')\n",
        "plt.show()"
      ],
      "execution_count": null,
      "outputs": [
        {
          "output_type": "display_data",
          "data": {
            "image/png": "[encoded data removed]",
            "text/plain": [
              "<Figure size 432x288 with 1 Axes>"
            ]
          },
          "metadata": {
            "tags": [],
            "needs_background": "light"
          }
        }
      ]
    },
    {
      "cell_type": "code",
      "metadata": {
        "id": "PgZWWjSEv3QX",
        "outputId": "f80b3582-d282-47f8-ec24-d7cd89717dc3"
      },
      "source": [
        "plt.hist(us_census.White)\n",
        "plt.xlabel('Percentage')\n",
        "plt.ylabel('Frequency of Occurance')\n",
        "plt.show()"
      ],
      "execution_count": null,
      "outputs": [
        {
          "output_type": "display_data",
          "data": {
            "image/png": "[encoded data removed]",
            "text/plain": [
              "<Figure size 432x288 with 1 Axes>"
            ]
          },
          "metadata": {
            "tags": [],
            "needs_background": "light"
          }
        }
      ]
    },
    {
      "cell_type": "code",
      "metadata": {
        "scrolled": true,
        "id": "L_awo9Dov3QZ",
        "outputId": "51fd57df-469e-48cd-9940-d53229af32c9"
      },
      "source": [
        "plt.hist(us_census.Black)\n",
        "plt.xlabel('Percentage')\n",
        "plt.ylabel('Frequency of Occurance')\n",
        "plt.show()"
      ],
      "execution_count": null,
      "outputs": [
        {
          "output_type": "display_data",
          "data": {
            "image/png": "[encoded data removed]",
            "text/plain": [
              "<Figure size 432x288 with 1 Axes>"
            ]
          },
          "metadata": {
            "tags": [],
            "needs_background": "light"
          }
        }
      ]
    },
    {
      "cell_type": "code",
      "metadata": {
        "id": "IBXB4z9Av3Qd",
        "outputId": "696f4aa7-11fc-4973-fb10-2fec53f45272"
      },
      "source": [
        "plt.hist(us_census.Native)\n",
        "plt.xlabel('Percentage')\n",
        "plt.ylabel('Frequency of Occurance')\n",
        "plt.show()"
      ],
      "execution_count": null,
      "outputs": [
        {
          "output_type": "display_data",
          "data": {
            "image/png": "[encoded data removed]",
            "text/plain": [
              "<Figure size 432x288 with 1 Axes>"
            ]
          },
          "metadata": {
            "tags": [],
            "needs_background": "light"
          }
        }
      ]
    },
    {
      "cell_type": "code",
      "metadata": {
        "scrolled": true,
        "id": "7BhMMIO1v3Qg",
        "outputId": "6f8793ae-0c26-4cee-a54f-97c9e330a90e"
      },
      "source": [
        "plt.hist(us_census.Asian)\n",
        "plt.xlabel('Percentage')\n",
        "plt.ylabel('Frequency of Occurance')\n",
        "plt.show()"
      ],
      "execution_count": null,
      "outputs": [
        {
          "output_type": "display_data",
          "data": {
            "image/png": "[encoded data removed]",
            "text/plain": [
              "<Figure size 432x288 with 1 Axes>"
            ]
          },
          "metadata": {
            "tags": [],
            "needs_background": "light"
          }
        }
      ]
    },
    {
      "cell_type": "code",
      "metadata": {
        "id": "AjX6IXCbv3Qj",
        "outputId": "89b7a481-5161-4d6d-93f9-c7d807957b6a"
      },
      "source": [
        "plt.hist(us_census.Pacific)\n",
        "plt.xlabel('Percentage')\n",
        "plt.ylabel('Frequency of Occurance')\n",
        "plt.show()"
      ],
      "execution_count": null,
      "outputs": [
        {
          "output_type": "display_data",
          "data": {
            "image/png": "[encoded data removed]",
            "text/plain": [
              "<Figure size 432x288 with 1 Axes>"
            ]
          },
          "metadata": {
            "tags": [],
            "needs_background": "light"
          }
        }
      ]
    },
    {
      "cell_type": "markdown",
      "metadata": {
        "id": "CYy9g3fjv3Ql"
      },
      "source": [
        "#### Get Creative\n",
        "\n",
        "15.\n",
        "Phew. You’ve definitely impressed your boss on your first day of work.\n",
        "\n",
        "But is there a way you really convey the power of pandas and Python over the drudgery of csv and Excel?\n",
        "\n",
        "Try to make some more interesting graphs to show your boss, and the world! You may need to clean the data even more to do it, or the cleaning you have already done may give you the ease of manipulation you’ve been searching for."
      ]
    },
    {
      "cell_type": "markdown",
      "metadata": {
        "id": "pj2KM8JPv3Qn"
      },
      "source": [
        "# PART 2:\n",
        "\n",
        "**LEARN DATA ANALYSIS WITH PANDAS**\n",
        "\n",
        "Petal Power Inventory\n",
        "You’re the lead data analyst for a chain of gardening stores called Petal Power. Help them analyze their inventory!"
      ]
    },
    {
      "cell_type": "markdown",
      "metadata": {
        "id": "kvReTJTyv3Qo"
      },
      "source": [
        "### Answer Customer Emails\n",
        "1.\n",
        "Data for all of the locations of Petal Power is in the file inventory.csv. Load the data into a DataFrame called inventory."
      ]
    },
    {
      "cell_type": "code",
      "metadata": {
        "id": "hd45LHfCv3Qq"
      },
      "source": [
        "import pandas as pd\n",
        "inventory = pd.read_csv('inventory.csv')"
      ],
      "execution_count": null,
      "outputs": []
    },
    {
      "cell_type": "code",
      "metadata": {
        "id": "jhwetjgtv3Qr"
      },
      "source": [
        "inventory = pd.DataFrame(inventory)"
      ],
      "execution_count": null,
      "outputs": []
    },
    {
      "cell_type": "markdown",
      "metadata": {
        "id": "BelU828Qv3Qt"
      },
      "source": [
        "2.\n",
        "Inspect the first 10 rows of inventory."
      ]
    },
    {
      "cell_type": "code",
      "metadata": {
        "scrolled": true,
        "id": "cscofEgpv3Qw",
        "outputId": "d65d985f-af63-4b71-bbef-8b3192b734ad"
      },
      "source": [
        "inventory.head(10)"
      ],
      "execution_count": null,
      "outputs": [
        {
          "output_type": "execute_result",
          "data": {
            "text/html": [
              "<div>\n",
              "<style scoped>\n",
              "    .dataframe tbody tr th:only-of-type {\n",
              "        vertical-align: middle;\n",
              "    }\n",
              "\n",
              "    .dataframe tbody tr th {\n",
              "        vertical-align: top;\n",
              "    }\n",
              "\n",
              "    .dataframe thead th {\n",
              "        text-align: right;\n",
              "    }\n",
              "</style>\n",
              "<table border=\"1\" class=\"dataframe\">\n",
              "  <thead>\n",
              "    <tr style=\"text-align: right;\">\n",
              "      <th></th>\n",
              "      <th>location</th>\n",
              "      <th>product_type</th>\n",
              "      <th>product_description</th>\n",
              "      <th>quantity</th>\n",
              "      <th>price</th>\n",
              "    </tr>\n",
              "  </thead>\n",
              "  <tbody>\n",
              "    <tr>\n",
              "      <th>0</th>\n",
              "      <td>Staten Island</td>\n",
              "      <td>seeds</td>\n",
              "      <td>daisy</td>\n",
              "      <td>4</td>\n",
              "      <td>6.99</td>\n",
              "    </tr>\n",
              "    <tr>\n",
              "      <th>1</th>\n",
              "      <td>Staten Island</td>\n",
              "      <td>seeds</td>\n",
              "      <td>calla lily</td>\n",
              "      <td>46</td>\n",
              "      <td>19.99</td>\n",
              "    </tr>\n",
              "    <tr>\n",
              "      <th>2</th>\n",
              "      <td>Staten Island</td>\n",
              "      <td>seeds</td>\n",
              "      <td>tomato</td>\n",
              "      <td>85</td>\n",
              "      <td>13.99</td>\n",
              "    </tr>\n",
              "    <tr>\n",
              "      <th>3</th>\n",
              "      <td>Staten Island</td>\n",
              "      <td>garden tools</td>\n",
              "      <td>rake</td>\n",
              "      <td>4</td>\n",
              "      <td>13.99</td>\n",
              "    </tr>\n",
              "    <tr>\n",
              "      <th>4</th>\n",
              "      <td>Staten Island</td>\n",
              "      <td>garden tools</td>\n",
              "      <td>wheelbarrow</td>\n",
              "      <td>0</td>\n",
              "      <td>89.99</td>\n",
              "    </tr>\n",
              "    <tr>\n",
              "      <th>5</th>\n",
              "      <td>Staten Island</td>\n",
              "      <td>garden tools</td>\n",
              "      <td>spade</td>\n",
              "      <td>93</td>\n",
              "      <td>19.99</td>\n",
              "    </tr>\n",
              "    <tr>\n",
              "      <th>6</th>\n",
              "      <td>Staten Island</td>\n",
              "      <td>pest_control</td>\n",
              "      <td>insect killer</td>\n",
              "      <td>74</td>\n",
              "      <td>12.99</td>\n",
              "    </tr>\n",
              "    <tr>\n",
              "      <th>7</th>\n",
              "      <td>Staten Island</td>\n",
              "      <td>pest_control</td>\n",
              "      <td>weed killer</td>\n",
              "      <td>8</td>\n",
              "      <td>23.99</td>\n",
              "    </tr>\n",
              "    <tr>\n",
              "      <th>8</th>\n",
              "      <td>Staten Island</td>\n",
              "      <td>planter</td>\n",
              "      <td>20 inch terracotta planter</td>\n",
              "      <td>0</td>\n",
              "      <td>17.99</td>\n",
              "    </tr>\n",
              "    <tr>\n",
              "      <th>9</th>\n",
              "      <td>Staten Island</td>\n",
              "      <td>planter</td>\n",
              "      <td>8 inch plastic planter</td>\n",
              "      <td>53</td>\n",
              "      <td>3.99</td>\n",
              "    </tr>\n",
              "  </tbody>\n",
              "</table>\n",
              "</div>"
            ],
            "text/plain": [
              "        location  product_type         product_description  quantity  price\n",
              "0  Staten Island         seeds                       daisy         4   6.99\n",
              "1  Staten Island         seeds                  calla lily        46  19.99\n",
              "2  Staten Island         seeds                      tomato        85  13.99\n",
              "3  Staten Island  garden tools                        rake         4  13.99\n",
              "4  Staten Island  garden tools                 wheelbarrow         0  89.99\n",
              "5  Staten Island  garden tools                       spade        93  19.99\n",
              "6  Staten Island  pest_control               insect killer        74  12.99\n",
              "7  Staten Island  pest_control                 weed killer         8  23.99\n",
              "8  Staten Island       planter  20 inch terracotta planter         0  17.99\n",
              "9  Staten Island       planter      8 inch plastic planter        53   3.99"
            ]
          },
          "metadata": {
            "tags": []
          },
          "execution_count": 4
        }
      ]
    },
    {
      "cell_type": "markdown",
      "metadata": {
        "id": "CFt0qRcuv3Qz"
      },
      "source": [
        "3.\n",
        "The first 10 rows represent data from your Staten Island location. Select these rows and save them to staten_island."
      ]
    },
    {
      "cell_type": "code",
      "metadata": {
        "id": "ST4CpReYv3Q-"
      },
      "source": [
        "staten_island = inventory[:10]"
      ],
      "execution_count": null,
      "outputs": []
    },
    {
      "cell_type": "code",
      "metadata": {
        "scrolled": true,
        "id": "erNXYhquv3RA",
        "outputId": "6f2f9058-f691-497f-a9ba-a34632d0bd0c"
      },
      "source": [
        "staten_island"
      ],
      "execution_count": null,
      "outputs": [
        {
          "output_type": "execute_result",
          "data": {
            "text/html": [
              "<div>\n",
              "<style scoped>\n",
              "    .dataframe tbody tr th:only-of-type {\n",
              "        vertical-align: middle;\n",
              "    }\n",
              "\n",
              "    .dataframe tbody tr th {\n",
              "        vertical-align: top;\n",
              "    }\n",
              "\n",
              "    .dataframe thead th {\n",
              "        text-align: right;\n",
              "    }\n",
              "</style>\n",
              "<table border=\"1\" class=\"dataframe\">\n",
              "  <thead>\n",
              "    <tr style=\"text-align: right;\">\n",
              "      <th></th>\n",
              "      <th>location</th>\n",
              "      <th>product_type</th>\n",
              "      <th>product_description</th>\n",
              "      <th>quantity</th>\n",
              "      <th>price</th>\n",
              "    </tr>\n",
              "  </thead>\n",
              "  <tbody>\n",
              "    <tr>\n",
              "      <th>0</th>\n",
              "      <td>Staten Island</td>\n",
              "      <td>seeds</td>\n",
              "      <td>daisy</td>\n",
              "      <td>4</td>\n",
              "      <td>6.99</td>\n",
              "    </tr>\n",
              "    <tr>\n",
              "      <th>1</th>\n",
              "      <td>Staten Island</td>\n",
              "      <td>seeds</td>\n",
              "      <td>calla lily</td>\n",
              "      <td>46</td>\n",
              "      <td>19.99</td>\n",
              "    </tr>\n",
              "    <tr>\n",
              "      <th>2</th>\n",
              "      <td>Staten Island</td>\n",
              "      <td>seeds</td>\n",
              "      <td>tomato</td>\n",
              "      <td>85</td>\n",
              "      <td>13.99</td>\n",
              "    </tr>\n",
              "    <tr>\n",
              "      <th>3</th>\n",
              "      <td>Staten Island</td>\n",
              "      <td>garden tools</td>\n",
              "      <td>rake</td>\n",
              "      <td>4</td>\n",
              "      <td>13.99</td>\n",
              "    </tr>\n",
              "    <tr>\n",
              "      <th>4</th>\n",
              "      <td>Staten Island</td>\n",
              "      <td>garden tools</td>\n",
              "      <td>wheelbarrow</td>\n",
              "      <td>0</td>\n",
              "      <td>89.99</td>\n",
              "    </tr>\n",
              "    <tr>\n",
              "      <th>5</th>\n",
              "      <td>Staten Island</td>\n",
              "      <td>garden tools</td>\n",
              "      <td>spade</td>\n",
              "      <td>93</td>\n",
              "      <td>19.99</td>\n",
              "    </tr>\n",
              "    <tr>\n",
              "      <th>6</th>\n",
              "      <td>Staten Island</td>\n",
              "      <td>pest_control</td>\n",
              "      <td>insect killer</td>\n",
              "      <td>74</td>\n",
              "      <td>12.99</td>\n",
              "    </tr>\n",
              "    <tr>\n",
              "      <th>7</th>\n",
              "      <td>Staten Island</td>\n",
              "      <td>pest_control</td>\n",
              "      <td>weed killer</td>\n",
              "      <td>8</td>\n",
              "      <td>23.99</td>\n",
              "    </tr>\n",
              "    <tr>\n",
              "      <th>8</th>\n",
              "      <td>Staten Island</td>\n",
              "      <td>planter</td>\n",
              "      <td>20 inch terracotta planter</td>\n",
              "      <td>0</td>\n",
              "      <td>17.99</td>\n",
              "    </tr>\n",
              "    <tr>\n",
              "      <th>9</th>\n",
              "      <td>Staten Island</td>\n",
              "      <td>planter</td>\n",
              "      <td>8 inch plastic planter</td>\n",
              "      <td>53</td>\n",
              "      <td>3.99</td>\n",
              "    </tr>\n",
              "  </tbody>\n",
              "</table>\n",
              "</div>"
            ],
            "text/plain": [
              "        location  product_type         product_description  quantity  price\n",
              "0  Staten Island         seeds                       daisy         4   6.99\n",
              "1  Staten Island         seeds                  calla lily        46  19.99\n",
              "2  Staten Island         seeds                      tomato        85  13.99\n",
              "3  Staten Island  garden tools                        rake         4  13.99\n",
              "4  Staten Island  garden tools                 wheelbarrow         0  89.99\n",
              "5  Staten Island  garden tools                       spade        93  19.99\n",
              "6  Staten Island  pest_control               insect killer        74  12.99\n",
              "7  Staten Island  pest_control                 weed killer         8  23.99\n",
              "8  Staten Island       planter  20 inch terracotta planter         0  17.99\n",
              "9  Staten Island       planter      8 inch plastic planter        53   3.99"
            ]
          },
          "metadata": {
            "tags": []
          },
          "execution_count": 6
        }
      ]
    },
    {
      "cell_type": "code",
      "metadata": {
        "id": "7e2RvnwIv3RC",
        "outputId": "bda4608b-c274-47e1-de5a-d5cd9b28ba4a"
      },
      "source": [
        "inventory"
      ],
      "execution_count": null,
      "outputs": [
        {
          "output_type": "execute_result",
          "data": {
            "text/html": [
              "<div>\n",
              "<style scoped>\n",
              "    .dataframe tbody tr th:only-of-type {\n",
              "        vertical-align: middle;\n",
              "    }\n",
              "\n",
              "    .dataframe tbody tr th {\n",
              "        vertical-align: top;\n",
              "    }\n",
              "\n",
              "    .dataframe thead th {\n",
              "        text-align: right;\n",
              "    }\n",
              "</style>\n",
              "<table border=\"1\" class=\"dataframe\">\n",
              "  <thead>\n",
              "    <tr style=\"text-align: right;\">\n",
              "      <th></th>\n",
              "      <th>location</th>\n",
              "      <th>product_type</th>\n",
              "      <th>product_description</th>\n",
              "      <th>quantity</th>\n",
              "      <th>price</th>\n",
              "    </tr>\n",
              "  </thead>\n",
              "  <tbody>\n",
              "    <tr>\n",
              "      <th>0</th>\n",
              "      <td>Staten Island</td>\n",
              "      <td>seeds</td>\n",
              "      <td>daisy</td>\n",
              "      <td>4</td>\n",
              "      <td>6.99</td>\n",
              "    </tr>\n",
              "    <tr>\n",
              "      <th>1</th>\n",
              "      <td>Staten Island</td>\n",
              "      <td>seeds</td>\n",
              "      <td>calla lily</td>\n",
              "      <td>46</td>\n",
              "      <td>19.99</td>\n",
              "    </tr>\n",
              "    <tr>\n",
              "      <th>2</th>\n",
              "      <td>Staten Island</td>\n",
              "      <td>seeds</td>\n",
              "      <td>tomato</td>\n",
              "      <td>85</td>\n",
              "      <td>13.99</td>\n",
              "    </tr>\n",
              "    <tr>\n",
              "      <th>3</th>\n",
              "      <td>Staten Island</td>\n",
              "      <td>garden tools</td>\n",
              "      <td>rake</td>\n",
              "      <td>4</td>\n",
              "      <td>13.99</td>\n",
              "    </tr>\n",
              "    <tr>\n",
              "      <th>4</th>\n",
              "      <td>Staten Island</td>\n",
              "      <td>garden tools</td>\n",
              "      <td>wheelbarrow</td>\n",
              "      <td>0</td>\n",
              "      <td>89.99</td>\n",
              "    </tr>\n",
              "    <tr>\n",
              "      <th>5</th>\n",
              "      <td>Staten Island</td>\n",
              "      <td>garden tools</td>\n",
              "      <td>spade</td>\n",
              "      <td>93</td>\n",
              "      <td>19.99</td>\n",
              "    </tr>\n",
              "    <tr>\n",
              "      <th>6</th>\n",
              "      <td>Staten Island</td>\n",
              "      <td>pest_control</td>\n",
              "      <td>insect killer</td>\n",
              "      <td>74</td>\n",
              "      <td>12.99</td>\n",
              "    </tr>\n",
              "    <tr>\n",
              "      <th>7</th>\n",
              "      <td>Staten Island</td>\n",
              "      <td>pest_control</td>\n",
              "      <td>weed killer</td>\n",
              "      <td>8</td>\n",
              "      <td>23.99</td>\n",
              "    </tr>\n",
              "    <tr>\n",
              "      <th>8</th>\n",
              "      <td>Staten Island</td>\n",
              "      <td>planter</td>\n",
              "      <td>20 inch terracotta planter</td>\n",
              "      <td>0</td>\n",
              "      <td>17.99</td>\n",
              "    </tr>\n",
              "    <tr>\n",
              "      <th>9</th>\n",
              "      <td>Staten Island</td>\n",
              "      <td>planter</td>\n",
              "      <td>8 inch plastic planter</td>\n",
              "      <td>53</td>\n",
              "      <td>3.99</td>\n",
              "    </tr>\n",
              "    <tr>\n",
              "      <th>10</th>\n",
              "      <td>Brooklyn</td>\n",
              "      <td>seeds</td>\n",
              "      <td>daisy</td>\n",
              "      <td>50</td>\n",
              "      <td>6.99</td>\n",
              "    </tr>\n",
              "    <tr>\n",
              "      <th>11</th>\n",
              "      <td>Brooklyn</td>\n",
              "      <td>seeds</td>\n",
              "      <td>calla lily</td>\n",
              "      <td>0</td>\n",
              "      <td>19.99</td>\n",
              "    </tr>\n",
              "    <tr>\n",
              "      <th>12</th>\n",
              "      <td>Brooklyn</td>\n",
              "      <td>seeds</td>\n",
              "      <td>tomato</td>\n",
              "      <td>0</td>\n",
              "      <td>13.99</td>\n",
              "    </tr>\n",
              "    <tr>\n",
              "      <th>13</th>\n",
              "      <td>Brooklyn</td>\n",
              "      <td>garden tools</td>\n",
              "      <td>rake</td>\n",
              "      <td>15</td>\n",
              "      <td>13.99</td>\n",
              "    </tr>\n",
              "    <tr>\n",
              "      <th>14</th>\n",
              "      <td>Brooklyn</td>\n",
              "      <td>garden tools</td>\n",
              "      <td>wheelbarrow</td>\n",
              "      <td>82</td>\n",
              "      <td>89.99</td>\n",
              "    </tr>\n",
              "    <tr>\n",
              "      <th>15</th>\n",
              "      <td>Brooklyn</td>\n",
              "      <td>garden tools</td>\n",
              "      <td>spade</td>\n",
              "      <td>36</td>\n",
              "      <td>19.99</td>\n",
              "    </tr>\n",
              "    <tr>\n",
              "      <th>16</th>\n",
              "      <td>Brooklyn</td>\n",
              "      <td>pest_control</td>\n",
              "      <td>insect killer</td>\n",
              "      <td>80</td>\n",
              "      <td>12.99</td>\n",
              "    </tr>\n",
              "    <tr>\n",
              "      <th>17</th>\n",
              "      <td>Brooklyn</td>\n",
              "      <td>pest_control</td>\n",
              "      <td>weed killer</td>\n",
              "      <td>76</td>\n",
              "      <td>23.99</td>\n",
              "    </tr>\n",
              "    <tr>\n",
              "      <th>18</th>\n",
              "      <td>Brooklyn</td>\n",
              "      <td>planter</td>\n",
              "      <td>20 inch terracotta planter</td>\n",
              "      <td>5</td>\n",
              "      <td>17.99</td>\n",
              "    </tr>\n",
              "    <tr>\n",
              "      <th>19</th>\n",
              "      <td>Brooklyn</td>\n",
              "      <td>planter</td>\n",
              "      <td>8 inch plastic planter</td>\n",
              "      <td>26</td>\n",
              "      <td>3.99</td>\n",
              "    </tr>\n",
              "    <tr>\n",
              "      <th>20</th>\n",
              "      <td>Queens</td>\n",
              "      <td>seeds</td>\n",
              "      <td>daisy</td>\n",
              "      <td>57</td>\n",
              "      <td>6.99</td>\n",
              "    </tr>\n",
              "    <tr>\n",
              "      <th>21</th>\n",
              "      <td>Queens</td>\n",
              "      <td>seeds</td>\n",
              "      <td>calla lily</td>\n",
              "      <td>95</td>\n",
              "      <td>19.99</td>\n",
              "    </tr>\n",
              "    <tr>\n",
              "      <th>22</th>\n",
              "      <td>Queens</td>\n",
              "      <td>seeds</td>\n",
              "      <td>tomato</td>\n",
              "      <td>45</td>\n",
              "      <td>13.99</td>\n",
              "    </tr>\n",
              "    <tr>\n",
              "      <th>23</th>\n",
              "      <td>Queens</td>\n",
              "      <td>garden tools</td>\n",
              "      <td>rake</td>\n",
              "      <td>21</td>\n",
              "      <td>13.99</td>\n",
              "    </tr>\n",
              "    <tr>\n",
              "      <th>24</th>\n",
              "      <td>Queens</td>\n",
              "      <td>garden tools</td>\n",
              "      <td>wheelbarrow</td>\n",
              "      <td>98</td>\n",
              "      <td>89.99</td>\n",
              "    </tr>\n",
              "    <tr>\n",
              "      <th>25</th>\n",
              "      <td>Queens</td>\n",
              "      <td>garden tools</td>\n",
              "      <td>spade</td>\n",
              "      <td>26</td>\n",
              "      <td>19.99</td>\n",
              "    </tr>\n",
              "    <tr>\n",
              "      <th>26</th>\n",
              "      <td>Queens</td>\n",
              "      <td>pest_control</td>\n",
              "      <td>insect killer</td>\n",
              "      <td>0</td>\n",
              "      <td>12.99</td>\n",
              "    </tr>\n",
              "    <tr>\n",
              "      <th>27</th>\n",
              "      <td>Queens</td>\n",
              "      <td>pest_control</td>\n",
              "      <td>weed killer</td>\n",
              "      <td>16</td>\n",
              "      <td>23.99</td>\n",
              "    </tr>\n",
              "    <tr>\n",
              "      <th>28</th>\n",
              "      <td>Queens</td>\n",
              "      <td>planter</td>\n",
              "      <td>20 inch terracotta planter</td>\n",
              "      <td>87</td>\n",
              "      <td>17.99</td>\n",
              "    </tr>\n",
              "  </tbody>\n",
              "</table>\n",
              "</div>"
            ],
            "text/plain": [
              "         location  product_type         product_description  quantity  price\n",
              "0   Staten Island         seeds                       daisy         4   6.99\n",
              "1   Staten Island         seeds                  calla lily        46  19.99\n",
              "2   Staten Island         seeds                      tomato        85  13.99\n",
              "3   Staten Island  garden tools                        rake         4  13.99\n",
              "4   Staten Island  garden tools                 wheelbarrow         0  89.99\n",
              "5   Staten Island  garden tools                       spade        93  19.99\n",
              "6   Staten Island  pest_control               insect killer        74  12.99\n",
              "7   Staten Island  pest_control                 weed killer         8  23.99\n",
              "8   Staten Island       planter  20 inch terracotta planter         0  17.99\n",
              "9   Staten Island       planter      8 inch plastic planter        53   3.99\n",
              "10       Brooklyn         seeds                       daisy        50   6.99\n",
              "11       Brooklyn         seeds                  calla lily         0  19.99\n",
              "12       Brooklyn         seeds                      tomato         0  13.99\n",
              "13       Brooklyn  garden tools                        rake        15  13.99\n",
              "14       Brooklyn  garden tools                 wheelbarrow        82  89.99\n",
              "15       Brooklyn  garden tools                       spade        36  19.99\n",
              "16       Brooklyn  pest_control               insect killer        80  12.99\n",
              "17       Brooklyn  pest_control                 weed killer        76  23.99\n",
              "18       Brooklyn       planter  20 inch terracotta planter         5  17.99\n",
              "19       Brooklyn       planter      8 inch plastic planter        26   3.99\n",
              "20         Queens         seeds                       daisy        57   6.99\n",
              "21         Queens         seeds                  calla lily        95  19.99\n",
              "22         Queens         seeds                      tomato        45  13.99\n",
              "23         Queens  garden tools                        rake        21  13.99\n",
              "24         Queens  garden tools                 wheelbarrow        98  89.99\n",
              "25         Queens  garden tools                       spade        26  19.99\n",
              "26         Queens  pest_control               insect killer         0  12.99\n",
              "27         Queens  pest_control                 weed killer        16  23.99\n",
              "28         Queens       planter  20 inch terracotta planter        87  17.99"
            ]
          },
          "metadata": {
            "tags": []
          },
          "execution_count": 7
        }
      ]
    },
    {
      "cell_type": "markdown",
      "metadata": {
        "id": "AnkXDul2v3RF"
      },
      "source": [
        "4.\n",
        "A customer just emailed you asking what products are sold at your Staten Island location. Select the column product_description from staten_island and save it to the variable product_request."
      ]
    },
    {
      "cell_type": "code",
      "metadata": {
        "id": "GhMXNztlv3RH",
        "outputId": "a964445d-d713-491a-e2c0-0b666a4689c0"
      },
      "source": [
        "product_request = staten_island['product_description']\n",
        "product_request"
      ],
      "execution_count": null,
      "outputs": [
        {
          "output_type": "execute_result",
          "data": {
            "text/plain": [
              "0                         daisy\n",
              "1                    calla lily\n",
              "2                        tomato\n",
              "3                          rake\n",
              "4                   wheelbarrow\n",
              "5                         spade\n",
              "6                 insect killer\n",
              "7                   weed killer\n",
              "8    20 inch terracotta planter\n",
              "9        8 inch plastic planter\n",
              "Name: product_description, dtype: object"
            ]
          },
          "metadata": {
            "tags": []
          },
          "execution_count": 8
        }
      ]
    },
    {
      "cell_type": "markdown",
      "metadata": {
        "id": "N6U0ITR2v3RJ"
      },
      "source": [
        "5.\n",
        "Another customer emails to ask what types of seeds are sold at the Brooklyn location.\n",
        "\n",
        "Select all rows where location is equal to Brooklyn and product_type is equal to seeds and save them to the variable seed_request"
      ]
    },
    {
      "cell_type": "code",
      "metadata": {
        "scrolled": true,
        "id": "-jgbwlvcv3RL",
        "outputId": "f2d63bc9-18eb-47c0-9952-64d5e509b09e"
      },
      "source": [
        "inventory[(inventory.location == 'Brooklyn') & (inventory.product_type == 'seeds')]"
      ],
      "execution_count": null,
      "outputs": [
        {
          "output_type": "execute_result",
          "data": {
            "text/html": [
              "<div>\n",
              "<style scoped>\n",
              "    .dataframe tbody tr th:only-of-type {\n",
              "        vertical-align: middle;\n",
              "    }\n",
              "\n",
              "    .dataframe tbody tr th {\n",
              "        vertical-align: top;\n",
              "    }\n",
              "\n",
              "    .dataframe thead th {\n",
              "        text-align: right;\n",
              "    }\n",
              "</style>\n",
              "<table border=\"1\" class=\"dataframe\">\n",
              "  <thead>\n",
              "    <tr style=\"text-align: right;\">\n",
              "      <th></th>\n",
              "      <th>location</th>\n",
              "      <th>product_type</th>\n",
              "      <th>product_description</th>\n",
              "      <th>quantity</th>\n",
              "      <th>price</th>\n",
              "    </tr>\n",
              "  </thead>\n",
              "  <tbody>\n",
              "    <tr>\n",
              "      <th>10</th>\n",
              "      <td>Brooklyn</td>\n",
              "      <td>seeds</td>\n",
              "      <td>daisy</td>\n",
              "      <td>50</td>\n",
              "      <td>6.99</td>\n",
              "    </tr>\n",
              "    <tr>\n",
              "      <th>11</th>\n",
              "      <td>Brooklyn</td>\n",
              "      <td>seeds</td>\n",
              "      <td>calla lily</td>\n",
              "      <td>0</td>\n",
              "      <td>19.99</td>\n",
              "    </tr>\n",
              "    <tr>\n",
              "      <th>12</th>\n",
              "      <td>Brooklyn</td>\n",
              "      <td>seeds</td>\n",
              "      <td>tomato</td>\n",
              "      <td>0</td>\n",
              "      <td>13.99</td>\n",
              "    </tr>\n",
              "  </tbody>\n",
              "</table>\n",
              "</div>"
            ],
            "text/plain": [
              "    location product_type product_description  quantity  price\n",
              "10  Brooklyn        seeds               daisy        50   6.99\n",
              "11  Brooklyn        seeds          calla lily         0  19.99\n",
              "12  Brooklyn        seeds              tomato         0  13.99"
            ]
          },
          "metadata": {
            "tags": []
          },
          "execution_count": 22
        }
      ]
    },
    {
      "cell_type": "code",
      "metadata": {
        "id": "V3jsWsenv3RN",
        "outputId": "5375f4c3-a27d-44e5-ea92-7e6e1729261a"
      },
      "source": [
        "seed_request = inventory[(inventory.location == 'Brooklyn') & (inventory.product_type == 'seeds')]\n",
        "seed_request"
      ],
      "execution_count": null,
      "outputs": [
        {
          "output_type": "execute_result",
          "data": {
            "text/html": [
              "<div>\n",
              "<style scoped>\n",
              "    .dataframe tbody tr th:only-of-type {\n",
              "        vertical-align: middle;\n",
              "    }\n",
              "\n",
              "    .dataframe tbody tr th {\n",
              "        vertical-align: top;\n",
              "    }\n",
              "\n",
              "    .dataframe thead th {\n",
              "        text-align: right;\n",
              "    }\n",
              "</style>\n",
              "<table border=\"1\" class=\"dataframe\">\n",
              "  <thead>\n",
              "    <tr style=\"text-align: right;\">\n",
              "      <th></th>\n",
              "      <th>location</th>\n",
              "      <th>product_type</th>\n",
              "      <th>product_description</th>\n",
              "      <th>quantity</th>\n",
              "      <th>price</th>\n",
              "    </tr>\n",
              "  </thead>\n",
              "  <tbody>\n",
              "    <tr>\n",
              "      <th>10</th>\n",
              "      <td>Brooklyn</td>\n",
              "      <td>seeds</td>\n",
              "      <td>daisy</td>\n",
              "      <td>50</td>\n",
              "      <td>6.99</td>\n",
              "    </tr>\n",
              "    <tr>\n",
              "      <th>11</th>\n",
              "      <td>Brooklyn</td>\n",
              "      <td>seeds</td>\n",
              "      <td>calla lily</td>\n",
              "      <td>0</td>\n",
              "      <td>19.99</td>\n",
              "    </tr>\n",
              "    <tr>\n",
              "      <th>12</th>\n",
              "      <td>Brooklyn</td>\n",
              "      <td>seeds</td>\n",
              "      <td>tomato</td>\n",
              "      <td>0</td>\n",
              "      <td>13.99</td>\n",
              "    </tr>\n",
              "  </tbody>\n",
              "</table>\n",
              "</div>"
            ],
            "text/plain": [
              "    location product_type product_description  quantity  price\n",
              "10  Brooklyn        seeds               daisy        50   6.99\n",
              "11  Brooklyn        seeds          calla lily         0  19.99\n",
              "12  Brooklyn        seeds              tomato         0  13.99"
            ]
          },
          "metadata": {
            "tags": []
          },
          "execution_count": 23
        }
      ]
    },
    {
      "cell_type": "markdown",
      "metadata": {
        "id": "kCJJsI9Bv3RP"
      },
      "source": [
        "### Inventory\n",
        "6.\n",
        "Add a column to inventory called in_stock which is True if quantity is greater than 0 and False if quantity equals 0."
      ]
    },
    {
      "cell_type": "code",
      "metadata": {
        "id": "vct7UJwBv3RR",
        "outputId": "74d0801f-2528-4842-d76a-d8426b7b9364"
      },
      "source": [
        "inventory['in_stock'] = inventory.apply(lambda row: True if row.quantity > 0 else False, axis=1)\n",
        "inventory.head()"
      ],
      "execution_count": null,
      "outputs": [
        {
          "output_type": "execute_result",
          "data": {
            "text/html": [
              "<div>\n",
              "<style scoped>\n",
              "    .dataframe tbody tr th:only-of-type {\n",
              "        vertical-align: middle;\n",
              "    }\n",
              "\n",
              "    .dataframe tbody tr th {\n",
              "        vertical-align: top;\n",
              "    }\n",
              "\n",
              "    .dataframe thead th {\n",
              "        text-align: right;\n",
              "    }\n",
              "</style>\n",
              "<table border=\"1\" class=\"dataframe\">\n",
              "  <thead>\n",
              "    <tr style=\"text-align: right;\">\n",
              "      <th></th>\n",
              "      <th>location</th>\n",
              "      <th>product_type</th>\n",
              "      <th>product_description</th>\n",
              "      <th>quantity</th>\n",
              "      <th>price</th>\n",
              "      <th>in_stock</th>\n",
              "    </tr>\n",
              "  </thead>\n",
              "  <tbody>\n",
              "    <tr>\n",
              "      <th>0</th>\n",
              "      <td>Staten Island</td>\n",
              "      <td>seeds</td>\n",
              "      <td>daisy</td>\n",
              "      <td>4</td>\n",
              "      <td>6.99</td>\n",
              "      <td>True</td>\n",
              "    </tr>\n",
              "    <tr>\n",
              "      <th>1</th>\n",
              "      <td>Staten Island</td>\n",
              "      <td>seeds</td>\n",
              "      <td>calla lily</td>\n",
              "      <td>46</td>\n",
              "      <td>19.99</td>\n",
              "      <td>True</td>\n",
              "    </tr>\n",
              "    <tr>\n",
              "      <th>2</th>\n",
              "      <td>Staten Island</td>\n",
              "      <td>seeds</td>\n",
              "      <td>tomato</td>\n",
              "      <td>85</td>\n",
              "      <td>13.99</td>\n",
              "      <td>True</td>\n",
              "    </tr>\n",
              "    <tr>\n",
              "      <th>3</th>\n",
              "      <td>Staten Island</td>\n",
              "      <td>garden tools</td>\n",
              "      <td>rake</td>\n",
              "      <td>4</td>\n",
              "      <td>13.99</td>\n",
              "      <td>True</td>\n",
              "    </tr>\n",
              "    <tr>\n",
              "      <th>4</th>\n",
              "      <td>Staten Island</td>\n",
              "      <td>garden tools</td>\n",
              "      <td>wheelbarrow</td>\n",
              "      <td>0</td>\n",
              "      <td>89.99</td>\n",
              "      <td>False</td>\n",
              "    </tr>\n",
              "  </tbody>\n",
              "</table>\n",
              "</div>"
            ],
            "text/plain": [
              "        location  product_type product_description  quantity  price  in_stock\n",
              "0  Staten Island         seeds               daisy         4   6.99      True\n",
              "1  Staten Island         seeds          calla lily        46  19.99      True\n",
              "2  Staten Island         seeds              tomato        85  13.99      True\n",
              "3  Staten Island  garden tools                rake         4  13.99      True\n",
              "4  Staten Island  garden tools         wheelbarrow         0  89.99     False"
            ]
          },
          "metadata": {
            "tags": []
          },
          "execution_count": 24
        }
      ]
    },
    {
      "cell_type": "markdown",
      "metadata": {
        "id": "Cpibuo2ov3RT"
      },
      "source": [
        "7.\n",
        "Petal Power wants to know how valuable their current inventory is.\n",
        "\n",
        "Create a column called total_value that is equal to price multiplied by quantity."
      ]
    },
    {
      "cell_type": "code",
      "metadata": {
        "id": "B8LQfmK7v3RV",
        "outputId": "b2cf80d2-3a0e-46a2-b511-cc3ced886b95"
      },
      "source": [
        "inventory['total_value'] = inventory.apply(lambda row: row.price * row.quantity, axis=1)\n",
        "inventory.head()"
      ],
      "execution_count": null,
      "outputs": [
        {
          "output_type": "execute_result",
          "data": {
            "text/html": [
              "<div>\n",
              "<style scoped>\n",
              "    .dataframe tbody tr th:only-of-type {\n",
              "        vertical-align: middle;\n",
              "    }\n",
              "\n",
              "    .dataframe tbody tr th {\n",
              "        vertical-align: top;\n",
              "    }\n",
              "\n",
              "    .dataframe thead th {\n",
              "        text-align: right;\n",
              "    }\n",
              "</style>\n",
              "<table border=\"1\" class=\"dataframe\">\n",
              "  <thead>\n",
              "    <tr style=\"text-align: right;\">\n",
              "      <th></th>\n",
              "      <th>location</th>\n",
              "      <th>product_type</th>\n",
              "      <th>product_description</th>\n",
              "      <th>quantity</th>\n",
              "      <th>price</th>\n",
              "      <th>in_stock</th>\n",
              "      <th>total_value</th>\n",
              "    </tr>\n",
              "  </thead>\n",
              "  <tbody>\n",
              "    <tr>\n",
              "      <th>0</th>\n",
              "      <td>Staten Island</td>\n",
              "      <td>seeds</td>\n",
              "      <td>daisy</td>\n",
              "      <td>4</td>\n",
              "      <td>6.99</td>\n",
              "      <td>True</td>\n",
              "      <td>27.96</td>\n",
              "    </tr>\n",
              "    <tr>\n",
              "      <th>1</th>\n",
              "      <td>Staten Island</td>\n",
              "      <td>seeds</td>\n",
              "      <td>calla lily</td>\n",
              "      <td>46</td>\n",
              "      <td>19.99</td>\n",
              "      <td>True</td>\n",
              "      <td>919.54</td>\n",
              "    </tr>\n",
              "    <tr>\n",
              "      <th>2</th>\n",
              "      <td>Staten Island</td>\n",
              "      <td>seeds</td>\n",
              "      <td>tomato</td>\n",
              "      <td>85</td>\n",
              "      <td>13.99</td>\n",
              "      <td>True</td>\n",
              "      <td>1189.15</td>\n",
              "    </tr>\n",
              "    <tr>\n",
              "      <th>3</th>\n",
              "      <td>Staten Island</td>\n",
              "      <td>garden tools</td>\n",
              "      <td>rake</td>\n",
              "      <td>4</td>\n",
              "      <td>13.99</td>\n",
              "      <td>True</td>\n",
              "      <td>55.96</td>\n",
              "    </tr>\n",
              "    <tr>\n",
              "      <th>4</th>\n",
              "      <td>Staten Island</td>\n",
              "      <td>garden tools</td>\n",
              "      <td>wheelbarrow</td>\n",
              "      <td>0</td>\n",
              "      <td>89.99</td>\n",
              "      <td>False</td>\n",
              "      <td>0.00</td>\n",
              "    </tr>\n",
              "  </tbody>\n",
              "</table>\n",
              "</div>"
            ],
            "text/plain": [
              "        location  product_type product_description  quantity  price  in_stock  \\\n",
              "0  Staten Island         seeds               daisy         4   6.99      True   \n",
              "1  Staten Island         seeds          calla lily        46  19.99      True   \n",
              "2  Staten Island         seeds              tomato        85  13.99      True   \n",
              "3  Staten Island  garden tools                rake         4  13.99      True   \n",
              "4  Staten Island  garden tools         wheelbarrow         0  89.99     False   \n",
              "\n",
              "   total_value  \n",
              "0        27.96  \n",
              "1       919.54  \n",
              "2      1189.15  \n",
              "3        55.96  \n",
              "4         0.00  "
            ]
          },
          "metadata": {
            "tags": []
          },
          "execution_count": 25
        }
      ]
    },
    {
      "cell_type": "markdown",
      "metadata": {
        "id": "z9OyLDu9v3RX"
      },
      "source": [
        "8.\n",
        "The Marketing department wants a complete description of each product for their catalog.\n",
        "\n",
        "The following lambda function combines product_type and product_description into a single string:\n",
        "\n",
        "    combine_lambda = lambda row: \\\n",
        "        '{} - {}'.format(row.product_type,\n",
        "                     row.product_description)\n",
        "Paste this function into script.py."
      ]
    },
    {
      "cell_type": "code",
      "metadata": {
        "id": "HIsfcxTSv3RZ",
        "outputId": "067dba44-870e-48f7-8b2d-efbba548c6b5"
      },
      "source": [
        "combine_lambda = lambda row: '{} - {}'.format(row.product_type, row.product_description)\n",
        "combine_lambda"
      ],
      "execution_count": null,
      "outputs": [
        {
          "output_type": "execute_result",
          "data": {
            "text/plain": [
              "<function __main__.<lambda>(row)>"
            ]
          },
          "metadata": {
            "tags": []
          },
          "execution_count": 28
        }
      ]
    },
    {
      "cell_type": "markdown",
      "metadata": {
        "id": "tJbczayLv3Rb"
      },
      "source": [
        "9.\n",
        "Using combine_lambda, create a new column in inventory called full_description that has the complete description of each product."
      ]
    },
    {
      "cell_type": "code",
      "metadata": {
        "id": "n2LOGA4mv3Rc"
      },
      "source": [
        "inventory['full_description'] = inventory.apply(combine_lambda, axis=1)"
      ],
      "execution_count": null,
      "outputs": []
    },
    {
      "cell_type": "code",
      "metadata": {
        "id": "4ZOX_7VSv3Re",
        "outputId": "32ae7e60-e978-4421-f607-dcdc3e137133"
      },
      "source": [
        "inventory.head()"
      ],
      "execution_count": null,
      "outputs": [
        {
          "output_type": "execute_result",
          "data": {
            "text/html": [
              "<div>\n",
              "<style scoped>\n",
              "    .dataframe tbody tr th:only-of-type {\n",
              "        vertical-align: middle;\n",
              "    }\n",
              "\n",
              "    .dataframe tbody tr th {\n",
              "        vertical-align: top;\n",
              "    }\n",
              "\n",
              "    .dataframe thead th {\n",
              "        text-align: right;\n",
              "    }\n",
              "</style>\n",
              "<table border=\"1\" class=\"dataframe\">\n",
              "  <thead>\n",
              "    <tr style=\"text-align: right;\">\n",
              "      <th></th>\n",
              "      <th>location</th>\n",
              "      <th>product_type</th>\n",
              "      <th>product_description</th>\n",
              "      <th>quantity</th>\n",
              "      <th>price</th>\n",
              "      <th>in_stock</th>\n",
              "      <th>total_value</th>\n",
              "      <th>full_description</th>\n",
              "    </tr>\n",
              "  </thead>\n",
              "  <tbody>\n",
              "    <tr>\n",
              "      <th>0</th>\n",
              "      <td>Staten Island</td>\n",
              "      <td>seeds</td>\n",
              "      <td>daisy</td>\n",
              "      <td>4</td>\n",
              "      <td>6.99</td>\n",
              "      <td>True</td>\n",
              "      <td>27.96</td>\n",
              "      <td>seeds - daisy</td>\n",
              "    </tr>\n",
              "    <tr>\n",
              "      <th>1</th>\n",
              "      <td>Staten Island</td>\n",
              "      <td>seeds</td>\n",
              "      <td>calla lily</td>\n",
              "      <td>46</td>\n",
              "      <td>19.99</td>\n",
              "      <td>True</td>\n",
              "      <td>919.54</td>\n",
              "      <td>seeds - calla lily</td>\n",
              "    </tr>\n",
              "    <tr>\n",
              "      <th>2</th>\n",
              "      <td>Staten Island</td>\n",
              "      <td>seeds</td>\n",
              "      <td>tomato</td>\n",
              "      <td>85</td>\n",
              "      <td>13.99</td>\n",
              "      <td>True</td>\n",
              "      <td>1189.15</td>\n",
              "      <td>seeds - tomato</td>\n",
              "    </tr>\n",
              "    <tr>\n",
              "      <th>3</th>\n",
              "      <td>Staten Island</td>\n",
              "      <td>garden tools</td>\n",
              "      <td>rake</td>\n",
              "      <td>4</td>\n",
              "      <td>13.99</td>\n",
              "      <td>True</td>\n",
              "      <td>55.96</td>\n",
              "      <td>garden tools - rake</td>\n",
              "    </tr>\n",
              "    <tr>\n",
              "      <th>4</th>\n",
              "      <td>Staten Island</td>\n",
              "      <td>garden tools</td>\n",
              "      <td>wheelbarrow</td>\n",
              "      <td>0</td>\n",
              "      <td>89.99</td>\n",
              "      <td>False</td>\n",
              "      <td>0.00</td>\n",
              "      <td>garden tools - wheelbarrow</td>\n",
              "    </tr>\n",
              "  </tbody>\n",
              "</table>\n",
              "</div>"
            ],
            "text/plain": [
              "        location  product_type product_description  quantity  price  in_stock  \\\n",
              "0  Staten Island         seeds               daisy         4   6.99      True   \n",
              "1  Staten Island         seeds          calla lily        46  19.99      True   \n",
              "2  Staten Island         seeds              tomato        85  13.99      True   \n",
              "3  Staten Island  garden tools                rake         4  13.99      True   \n",
              "4  Staten Island  garden tools         wheelbarrow         0  89.99     False   \n",
              "\n",
              "   total_value            full_description  \n",
              "0        27.96               seeds - daisy  \n",
              "1       919.54          seeds - calla lily  \n",
              "2      1189.15              seeds - tomato  \n",
              "3        55.96         garden tools - rake  \n",
              "4         0.00  garden tools - wheelbarrow  "
            ]
          },
          "metadata": {
            "tags": []
          },
          "execution_count": 31
        }
      ]
    }
  ]
}